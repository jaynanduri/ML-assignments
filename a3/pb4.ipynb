{
 "cells": [
  {
   "cell_type": "code",
   "execution_count": 1,
   "metadata": {
    "collapsed": true,
    "ExecuteTime": {
     "start_time": "2023-11-02T13:49:47.600352Z",
     "end_time": "2023-11-02T13:49:48.847554Z"
    }
   },
   "outputs": [
    {
     "data": {
      "text/plain": "Index(['Private', 'Apps', 'Accept', 'Enroll', 'Top10perc', 'Top25perc',\n       'F.Undergrad', 'P.Undergrad', 'Outstate', 'Room.Board', 'Books',\n       'Personal', 'PhD', 'Terminal', 'S.F.Ratio', 'perc.alumni', 'Expend',\n       'Grad.Rate'],\n      dtype='object')"
     },
     "execution_count": 1,
     "metadata": {},
     "output_type": "execute_result"
    }
   ],
   "source": [
    "from ISLP import load_data\n",
    "df = load_data(\"College\")\n",
    "df.columns"
   ]
  },
  {
   "cell_type": "code",
   "execution_count": 2,
   "outputs": [
    {
     "data": {
      "text/plain": "     Private  Enroll  Top10perc  Top25perc  F.Undergrad  P.Undergrad  \\\n0          1     721         23         52         2885          537   \n1          1     512         16         29         2683         1227   \n2          1     336         22         50         1036           99   \n3          1     137         60         89          510           63   \n4          1      55         16         44          249          869   \n..       ...     ...        ...        ...          ...          ...   \n772        0     543          4         26         3089         2029   \n773        1     695         24         47         2849         1107   \n774        1     695         34         61         2793          166   \n775        1    1317         95         99         5217           83   \n776        1     691         28         63         2988         1726   \n\n     Outstate  Room.Board  Books  Personal  PhD  Terminal  S.F.Ratio  \\\n0        7440        3300    450      2200   70        78       18.1   \n1       12280        6450    750      1500   29        30       12.2   \n2       11250        3750    400      1165   53        66       12.9   \n3       12960        5450    450       875   92        97        7.7   \n4        7560        4120    800      1500   76        72       11.9   \n..        ...         ...    ...       ...  ...       ...        ...   \n772      6797        3900    500      1200   60        60       21.0   \n773     11520        4960    600      1250   73        75       13.3   \n774      6900        4200    617       781   67        75       14.4   \n775     19840        6510    630      2115   96        96        5.8   \n776      4990        3560    500      1250   75        75       18.1   \n\n     perc.alumni  Expend  Grad.Rate  Accept.Rate  \n0             12    7041         60     0.742169  \n1             16   10527         56     0.880146  \n2             30    8735         54     0.768207  \n3             37   19016         59     0.836930  \n4              2   10922         15     0.756477  \n..           ...     ...        ...          ...  \n772           14    4469         40     0.689577  \n773           31    9189         83     0.921388  \n774           20    8323         49     0.913209  \n775           49   40386         99     0.229145  \n776           28    4509         99     0.620609  \n\n[777 rows x 17 columns]",
      "text/html": "<div>\n<style scoped>\n    .dataframe tbody tr th:only-of-type {\n        vertical-align: middle;\n    }\n\n    .dataframe tbody tr th {\n        vertical-align: top;\n    }\n\n    .dataframe thead th {\n        text-align: right;\n    }\n</style>\n<table border=\"1\" class=\"dataframe\">\n  <thead>\n    <tr style=\"text-align: right;\">\n      <th></th>\n      <th>Private</th>\n      <th>Enroll</th>\n      <th>Top10perc</th>\n      <th>Top25perc</th>\n      <th>F.Undergrad</th>\n      <th>P.Undergrad</th>\n      <th>Outstate</th>\n      <th>Room.Board</th>\n      <th>Books</th>\n      <th>Personal</th>\n      <th>PhD</th>\n      <th>Terminal</th>\n      <th>S.F.Ratio</th>\n      <th>perc.alumni</th>\n      <th>Expend</th>\n      <th>Grad.Rate</th>\n      <th>Accept.Rate</th>\n    </tr>\n  </thead>\n  <tbody>\n    <tr>\n      <th>0</th>\n      <td>1</td>\n      <td>721</td>\n      <td>23</td>\n      <td>52</td>\n      <td>2885</td>\n      <td>537</td>\n      <td>7440</td>\n      <td>3300</td>\n      <td>450</td>\n      <td>2200</td>\n      <td>70</td>\n      <td>78</td>\n      <td>18.1</td>\n      <td>12</td>\n      <td>7041</td>\n      <td>60</td>\n      <td>0.742169</td>\n    </tr>\n    <tr>\n      <th>1</th>\n      <td>1</td>\n      <td>512</td>\n      <td>16</td>\n      <td>29</td>\n      <td>2683</td>\n      <td>1227</td>\n      <td>12280</td>\n      <td>6450</td>\n      <td>750</td>\n      <td>1500</td>\n      <td>29</td>\n      <td>30</td>\n      <td>12.2</td>\n      <td>16</td>\n      <td>10527</td>\n      <td>56</td>\n      <td>0.880146</td>\n    </tr>\n    <tr>\n      <th>2</th>\n      <td>1</td>\n      <td>336</td>\n      <td>22</td>\n      <td>50</td>\n      <td>1036</td>\n      <td>99</td>\n      <td>11250</td>\n      <td>3750</td>\n      <td>400</td>\n      <td>1165</td>\n      <td>53</td>\n      <td>66</td>\n      <td>12.9</td>\n      <td>30</td>\n      <td>8735</td>\n      <td>54</td>\n      <td>0.768207</td>\n    </tr>\n    <tr>\n      <th>3</th>\n      <td>1</td>\n      <td>137</td>\n      <td>60</td>\n      <td>89</td>\n      <td>510</td>\n      <td>63</td>\n      <td>12960</td>\n      <td>5450</td>\n      <td>450</td>\n      <td>875</td>\n      <td>92</td>\n      <td>97</td>\n      <td>7.7</td>\n      <td>37</td>\n      <td>19016</td>\n      <td>59</td>\n      <td>0.836930</td>\n    </tr>\n    <tr>\n      <th>4</th>\n      <td>1</td>\n      <td>55</td>\n      <td>16</td>\n      <td>44</td>\n      <td>249</td>\n      <td>869</td>\n      <td>7560</td>\n      <td>4120</td>\n      <td>800</td>\n      <td>1500</td>\n      <td>76</td>\n      <td>72</td>\n      <td>11.9</td>\n      <td>2</td>\n      <td>10922</td>\n      <td>15</td>\n      <td>0.756477</td>\n    </tr>\n    <tr>\n      <th>...</th>\n      <td>...</td>\n      <td>...</td>\n      <td>...</td>\n      <td>...</td>\n      <td>...</td>\n      <td>...</td>\n      <td>...</td>\n      <td>...</td>\n      <td>...</td>\n      <td>...</td>\n      <td>...</td>\n      <td>...</td>\n      <td>...</td>\n      <td>...</td>\n      <td>...</td>\n      <td>...</td>\n      <td>...</td>\n    </tr>\n    <tr>\n      <th>772</th>\n      <td>0</td>\n      <td>543</td>\n      <td>4</td>\n      <td>26</td>\n      <td>3089</td>\n      <td>2029</td>\n      <td>6797</td>\n      <td>3900</td>\n      <td>500</td>\n      <td>1200</td>\n      <td>60</td>\n      <td>60</td>\n      <td>21.0</td>\n      <td>14</td>\n      <td>4469</td>\n      <td>40</td>\n      <td>0.689577</td>\n    </tr>\n    <tr>\n      <th>773</th>\n      <td>1</td>\n      <td>695</td>\n      <td>24</td>\n      <td>47</td>\n      <td>2849</td>\n      <td>1107</td>\n      <td>11520</td>\n      <td>4960</td>\n      <td>600</td>\n      <td>1250</td>\n      <td>73</td>\n      <td>75</td>\n      <td>13.3</td>\n      <td>31</td>\n      <td>9189</td>\n      <td>83</td>\n      <td>0.921388</td>\n    </tr>\n    <tr>\n      <th>774</th>\n      <td>1</td>\n      <td>695</td>\n      <td>34</td>\n      <td>61</td>\n      <td>2793</td>\n      <td>166</td>\n      <td>6900</td>\n      <td>4200</td>\n      <td>617</td>\n      <td>781</td>\n      <td>67</td>\n      <td>75</td>\n      <td>14.4</td>\n      <td>20</td>\n      <td>8323</td>\n      <td>49</td>\n      <td>0.913209</td>\n    </tr>\n    <tr>\n      <th>775</th>\n      <td>1</td>\n      <td>1317</td>\n      <td>95</td>\n      <td>99</td>\n      <td>5217</td>\n      <td>83</td>\n      <td>19840</td>\n      <td>6510</td>\n      <td>630</td>\n      <td>2115</td>\n      <td>96</td>\n      <td>96</td>\n      <td>5.8</td>\n      <td>49</td>\n      <td>40386</td>\n      <td>99</td>\n      <td>0.229145</td>\n    </tr>\n    <tr>\n      <th>776</th>\n      <td>1</td>\n      <td>691</td>\n      <td>28</td>\n      <td>63</td>\n      <td>2988</td>\n      <td>1726</td>\n      <td>4990</td>\n      <td>3560</td>\n      <td>500</td>\n      <td>1250</td>\n      <td>75</td>\n      <td>75</td>\n      <td>18.1</td>\n      <td>28</td>\n      <td>4509</td>\n      <td>99</td>\n      <td>0.620609</td>\n    </tr>\n  </tbody>\n</table>\n<p>777 rows × 17 columns</p>\n</div>"
     },
     "execution_count": 2,
     "metadata": {},
     "output_type": "execute_result"
    }
   ],
   "source": [
    "df[\"Private\"] = df.Private.apply(lambda x: 1 if x==\"Yes\" else 0)\n",
    "df[\"Accept.Rate\"] = df[\"Accept\"] / df[\"Apps\"]\n",
    "data = df.drop(columns=[\"Accept\", \"Apps\"])\n",
    "\n",
    "data"
   ],
   "metadata": {
    "collapsed": false,
    "ExecuteTime": {
     "start_time": "2023-11-02T13:49:49.751892Z",
     "end_time": "2023-11-02T13:49:49.769775Z"
    }
   }
  },
  {
   "cell_type": "code",
   "execution_count": 3,
   "outputs": [],
   "source": [
    "X_cols = ['Private', 'Enroll', 'Top10perc', 'Top25perc', 'F.Undergrad',\n",
    "          'P.Undergrad', 'Outstate', 'Room.Board', 'Books', 'Personal', 'PhD',\n",
    "          'Terminal', 'S.F.Ratio', 'perc.alumni', 'Expend', 'Grad.Rate']"
   ],
   "metadata": {
    "collapsed": false,
    "ExecuteTime": {
     "start_time": "2023-11-02T13:49:50.314297Z",
     "end_time": "2023-11-02T13:49:50.325774Z"
    }
   }
  },
  {
   "cell_type": "code",
   "execution_count": 4,
   "outputs": [],
   "source": [
    "from sklearn.model_selection import train_test_split\n",
    "x_train, x_test, y_train, y_test = train_test_split(data[X_cols], data[\"Accept.Rate\"], test_size=0.2, random_state=42, shuffle=True)"
   ],
   "metadata": {
    "collapsed": false,
    "ExecuteTime": {
     "start_time": "2023-11-02T13:49:50.745844Z",
     "end_time": "2023-11-02T13:49:50.765075Z"
    }
   }
  },
  {
   "cell_type": "code",
   "execution_count": 5,
   "outputs": [
    {
     "data": {
      "text/plain": "GradientBoostingRegressor(learning_rate=1.0, max_depth=5, min_samples_leaf=4,\n                          min_samples_split=19, n_estimators=3)",
      "text/html": "<style>#sk-container-id-1 {color: black;}#sk-container-id-1 pre{padding: 0;}#sk-container-id-1 div.sk-toggleable {background-color: white;}#sk-container-id-1 label.sk-toggleable__label {cursor: pointer;display: block;width: 100%;margin-bottom: 0;padding: 0.3em;box-sizing: border-box;text-align: center;}#sk-container-id-1 label.sk-toggleable__label-arrow:before {content: \"▸\";float: left;margin-right: 0.25em;color: #696969;}#sk-container-id-1 label.sk-toggleable__label-arrow:hover:before {color: black;}#sk-container-id-1 div.sk-estimator:hover label.sk-toggleable__label-arrow:before {color: black;}#sk-container-id-1 div.sk-toggleable__content {max-height: 0;max-width: 0;overflow: hidden;text-align: left;background-color: #f0f8ff;}#sk-container-id-1 div.sk-toggleable__content pre {margin: 0.2em;color: black;border-radius: 0.25em;background-color: #f0f8ff;}#sk-container-id-1 input.sk-toggleable__control:checked~div.sk-toggleable__content {max-height: 200px;max-width: 100%;overflow: auto;}#sk-container-id-1 input.sk-toggleable__control:checked~label.sk-toggleable__label-arrow:before {content: \"▾\";}#sk-container-id-1 div.sk-estimator input.sk-toggleable__control:checked~label.sk-toggleable__label {background-color: #d4ebff;}#sk-container-id-1 div.sk-label input.sk-toggleable__control:checked~label.sk-toggleable__label {background-color: #d4ebff;}#sk-container-id-1 input.sk-hidden--visually {border: 0;clip: rect(1px 1px 1px 1px);clip: rect(1px, 1px, 1px, 1px);height: 1px;margin: -1px;overflow: hidden;padding: 0;position: absolute;width: 1px;}#sk-container-id-1 div.sk-estimator {font-family: monospace;background-color: #f0f8ff;border: 1px dotted black;border-radius: 0.25em;box-sizing: border-box;margin-bottom: 0.5em;}#sk-container-id-1 div.sk-estimator:hover {background-color: #d4ebff;}#sk-container-id-1 div.sk-parallel-item::after {content: \"\";width: 100%;border-bottom: 1px solid gray;flex-grow: 1;}#sk-container-id-1 div.sk-label:hover label.sk-toggleable__label {background-color: #d4ebff;}#sk-container-id-1 div.sk-serial::before {content: \"\";position: absolute;border-left: 1px solid gray;box-sizing: border-box;top: 0;bottom: 0;left: 50%;z-index: 0;}#sk-container-id-1 div.sk-serial {display: flex;flex-direction: column;align-items: center;background-color: white;padding-right: 0.2em;padding-left: 0.2em;position: relative;}#sk-container-id-1 div.sk-item {position: relative;z-index: 1;}#sk-container-id-1 div.sk-parallel {display: flex;align-items: stretch;justify-content: center;background-color: white;position: relative;}#sk-container-id-1 div.sk-item::before, #sk-container-id-1 div.sk-parallel-item::before {content: \"\";position: absolute;border-left: 1px solid gray;box-sizing: border-box;top: 0;bottom: 0;left: 50%;z-index: -1;}#sk-container-id-1 div.sk-parallel-item {display: flex;flex-direction: column;z-index: 1;position: relative;background-color: white;}#sk-container-id-1 div.sk-parallel-item:first-child::after {align-self: flex-end;width: 50%;}#sk-container-id-1 div.sk-parallel-item:last-child::after {align-self: flex-start;width: 50%;}#sk-container-id-1 div.sk-parallel-item:only-child::after {width: 0;}#sk-container-id-1 div.sk-dashed-wrapped {border: 1px dashed gray;margin: 0 0.4em 0.5em 0.4em;box-sizing: border-box;padding-bottom: 0.4em;background-color: white;}#sk-container-id-1 div.sk-label label {font-family: monospace;font-weight: bold;display: inline-block;line-height: 1.2em;}#sk-container-id-1 div.sk-label-container {text-align: center;}#sk-container-id-1 div.sk-container {/* jupyter's `normalize.less` sets `[hidden] { display: none; }` but bootstrap.min.css set `[hidden] { display: none !important; }` so we also need the `!important` here to be able to override the default hidden behavior on the sphinx rendered scikit-learn.org. See: https://github.com/scikit-learn/scikit-learn/issues/21755 */display: inline-block !important;position: relative;}#sk-container-id-1 div.sk-text-repr-fallback {display: none;}</style><div id=\"sk-container-id-1\" class=\"sk-top-container\"><div class=\"sk-text-repr-fallback\"><pre>GradientBoostingRegressor(learning_rate=1.0, max_depth=5, min_samples_leaf=4,\n                          min_samples_split=19, n_estimators=3)</pre><b>In a Jupyter environment, please rerun this cell to show the HTML representation or trust the notebook. <br />On GitHub, the HTML representation is unable to render, please try loading this page with nbviewer.org.</b></div><div class=\"sk-container\" hidden><div class=\"sk-item\"><div class=\"sk-estimator sk-toggleable\"><input class=\"sk-toggleable__control sk-hidden--visually\" id=\"sk-estimator-id-1\" type=\"checkbox\" checked><label for=\"sk-estimator-id-1\" class=\"sk-toggleable__label sk-toggleable__label-arrow\">GradientBoostingRegressor</label><div class=\"sk-toggleable__content\"><pre>GradientBoostingRegressor(learning_rate=1.0, max_depth=5, min_samples_leaf=4,\n                          min_samples_split=19, n_estimators=3)</pre></div></div></div></div></div>"
     },
     "execution_count": 5,
     "metadata": {},
     "output_type": "execute_result"
    }
   ],
   "source": [
    "from sklearn.ensemble import GradientBoostingRegressor\n",
    "\n",
    "gbrt = GradientBoostingRegressor(max_depth=5, min_samples_split=19, min_samples_leaf=4, n_estimators=3, learning_rate=1.0)\n",
    "gbrt.fit(x_train, y_train)"
   ],
   "metadata": {
    "collapsed": false,
    "ExecuteTime": {
     "start_time": "2023-11-02T13:49:51.185102Z",
     "end_time": "2023-11-02T13:49:51.329172Z"
    }
   }
  },
  {
   "cell_type": "code",
   "execution_count": 6,
   "outputs": [],
   "source": [
    "from sklearn.tree import export_graphviz\n",
    "\n",
    "export_graphviz(gbrt.estimators_[2][0], out_file=\"graph.dot\", feature_names=X_cols, rounded=True, filled=True)"
   ],
   "metadata": {
    "collapsed": false,
    "ExecuteTime": {
     "start_time": "2023-11-02T13:49:51.850245Z",
     "end_time": "2023-11-02T13:49:51.860811Z"
    }
   }
  },
  {
   "cell_type": "code",
   "execution_count": 7,
   "outputs": [],
   "source": [
    "!dot -Tpng graph.dot -o randomTrees/tree2.png"
   ],
   "metadata": {
    "collapsed": false,
    "ExecuteTime": {
     "start_time": "2023-11-02T13:49:52.566488Z",
     "end_time": "2023-11-02T13:49:52.938532Z"
    }
   }
  },
  {
   "cell_type": "code",
   "execution_count": 8,
   "outputs": [
    {
     "name": "stdout",
     "output_type": "stream",
     "text": [
      "Test error for Accept.Rate is 0.019381650732775528\n"
     ]
    }
   ],
   "source": [
    "from sklearn.metrics import mean_squared_error\n",
    "\n",
    "print(f\"Test error for Accept.Rate is {mean_squared_error(y_test, gbrt.predict(x_test))}\")"
   ],
   "metadata": {
    "collapsed": false,
    "ExecuteTime": {
     "start_time": "2023-11-02T13:49:54.258573Z",
     "end_time": "2023-11-02T13:49:54.266450Z"
    }
   }
  },
  {
   "cell_type": "code",
   "execution_count": 9,
   "outputs": [],
   "source": [
    "# Friedman_MSE for picking potential splits in regression tree\n",
    "# Improvement = MSE(N)−((N_L)(MSE(N_L)/N) + (N_R)(MSE(N_R)/N))\n",
    "# Friedman_MSE = Improvement/(MSE(N_L) + MSE(N_R))"
   ],
   "metadata": {
    "collapsed": false,
    "ExecuteTime": {
     "start_time": "2023-11-02T13:49:56.391318Z",
     "end_time": "2023-11-02T13:49:56.400580Z"
    }
   }
  },
  {
   "cell_type": "code",
   "execution_count": 10,
   "outputs": [
    {
     "name": "stdout",
     "output_type": "stream",
     "text": [
      "Best Parameters: {'max_depth': 3, 'min_samples_split': 7, 'n_estimators': 64}\n",
      "Best Score: 0.011495823685610009\n"
     ]
    },
    {
     "name": "stderr",
     "output_type": "stream",
     "text": [
      "/Users/jay/opt/anaconda3/envs/ml_a1/lib/python3.10/site-packages/sklearn/model_selection/_validation.py:425: FitFailedWarning: \n",
      "810 fits failed out of a total of 7290.\n",
      "The score on these train-test partitions for these parameters will be set to nan.\n",
      "If these failures are not expected, you can try to debug them by setting error_score='raise'.\n",
      "\n",
      "Below are more details about the failures:\n",
      "--------------------------------------------------------------------------------\n",
      "810 fits failed with the following error:\n",
      "Traceback (most recent call last):\n",
      "  File \"/Users/jay/opt/anaconda3/envs/ml_a1/lib/python3.10/site-packages/sklearn/model_selection/_validation.py\", line 729, in _fit_and_score\n",
      "    estimator.fit(X_train, y_train, **fit_params)\n",
      "  File \"/Users/jay/opt/anaconda3/envs/ml_a1/lib/python3.10/site-packages/sklearn/base.py\", line 1145, in wrapper\n",
      "    estimator._validate_params()\n",
      "  File \"/Users/jay/opt/anaconda3/envs/ml_a1/lib/python3.10/site-packages/sklearn/base.py\", line 638, in _validate_params\n",
      "    validate_parameter_constraints(\n",
      "  File \"/Users/jay/opt/anaconda3/envs/ml_a1/lib/python3.10/site-packages/sklearn/utils/_param_validation.py\", line 95, in validate_parameter_constraints\n",
      "    raise InvalidParameterError(\n",
      "sklearn.utils._param_validation.InvalidParameterError: The 'min_samples_split' parameter of GradientBoostingRegressor must be an int in the range [2, inf) or a float in the range (0.0, 1.0]. Got 1 instead.\n",
      "\n",
      "  warnings.warn(some_fits_failed_message, FitFailedWarning)\n",
      "/Users/jay/opt/anaconda3/envs/ml_a1/lib/python3.10/site-packages/sklearn/model_selection/_search.py:979: UserWarning: One or more of the test scores are non-finite: [        nan         nan         nan ... -0.01239701 -0.01242693\n",
      " -0.01238667]\n",
      "  warnings.warn(\n"
     ]
    }
   ],
   "source": [
    "from sklearn.model_selection import GridSearchCV\n",
    "\n",
    "def staged_scorer(gbr, X, y_true):\n",
    "    best_score = float('inf')\n",
    "\n",
    "    for stage, y_pred in enumerate(gbr.staged_predict(X)):\n",
    "        score = mean_squared_error(y_true, y_pred)\n",
    "        if score < best_score:\n",
    "            best_score = score\n",
    "\n",
    "    return -best_score\n",
    "\n",
    "param_grid = {\n",
    "    'n_estimators': list(range(1, 400)),\n",
    "    'max_depth': list(range(1, 10)),\n",
    "    'min_samples_split': list(range(1, 10))\n",
    "}\n",
    "\n",
    "# GridSearch with custom scorer\n",
    "grid_search = GridSearchCV(GradientBoostingRegressor(), param_grid, scoring=staged_scorer, cv=3)\n",
    "grid_search.fit(x_train, y_train)\n",
    "\n",
    "# Results\n",
    "print(f\"Best Parameters: {grid_search.best_params_}\")\n",
    "print(f\"Best Score: {-grid_search.best_score_}\")"
   ],
   "metadata": {
    "collapsed": false,
    "ExecuteTime": {
     "start_time": "2023-11-02T13:49:58.792336Z",
     "end_time": "2023-11-02T14:04:47.291967Z"
    }
   }
  },
  {
   "cell_type": "code",
   "execution_count": 13,
   "outputs": [],
   "source": [
    "feature_importances_regressor = grid_search.best_estimator_.feature_importances_"
   ],
   "metadata": {
    "collapsed": false,
    "ExecuteTime": {
     "start_time": "2023-11-02T21:00:12.206621Z",
     "end_time": "2023-11-02T21:00:12.212052Z"
    }
   }
  },
  {
   "cell_type": "code",
   "execution_count": 15,
   "outputs": [],
   "source": [
    "import numpy as np\n",
    "import pandas as pd\n",
    "sorted_indices_regressor = np.argsort(feature_importances_regressor)[::-1]\n",
    "sorted_importances_regressor = feature_importances_regressor[sorted_indices_regressor]\n",
    "sorted_feature_names_regressor = np.array(X_cols)[sorted_indices_regressor]\n",
    "\n",
    "# Creating a DataFrame for better visualization\n",
    "feature_importance_df_regressor = pd.DataFrame({\n",
    "    'Feature': sorted_feature_names_regressor,\n",
    "    'Importance': sorted_importances_regressor\n",
    "})\n"
   ],
   "metadata": {
    "collapsed": false,
    "ExecuteTime": {
     "start_time": "2023-11-02T21:01:16.527372Z",
     "end_time": "2023-11-02T21:01:16.530573Z"
    }
   }
  },
  {
   "cell_type": "code",
   "execution_count": 16,
   "outputs": [
    {
     "data": {
      "text/plain": "        Feature  Importance\n0     Top25perc    0.232730\n1     Grad.Rate    0.171670\n2     Top10perc    0.166890\n3      Outstate    0.117063\n4   F.Undergrad    0.071602\n5    Room.Board    0.065065\n6         Books    0.046812\n7      Terminal    0.021210\n8        Expend    0.020525\n9        Enroll    0.017492\n10    S.F.Ratio    0.016572\n11  P.Undergrad    0.015356\n12  perc.alumni    0.013923\n13     Personal    0.013566\n14          PhD    0.009100\n15      Private    0.000423",
      "text/html": "<div>\n<style scoped>\n    .dataframe tbody tr th:only-of-type {\n        vertical-align: middle;\n    }\n\n    .dataframe tbody tr th {\n        vertical-align: top;\n    }\n\n    .dataframe thead th {\n        text-align: right;\n    }\n</style>\n<table border=\"1\" class=\"dataframe\">\n  <thead>\n    <tr style=\"text-align: right;\">\n      <th></th>\n      <th>Feature</th>\n      <th>Importance</th>\n    </tr>\n  </thead>\n  <tbody>\n    <tr>\n      <th>0</th>\n      <td>Top25perc</td>\n      <td>0.232730</td>\n    </tr>\n    <tr>\n      <th>1</th>\n      <td>Grad.Rate</td>\n      <td>0.171670</td>\n    </tr>\n    <tr>\n      <th>2</th>\n      <td>Top10perc</td>\n      <td>0.166890</td>\n    </tr>\n    <tr>\n      <th>3</th>\n      <td>Outstate</td>\n      <td>0.117063</td>\n    </tr>\n    <tr>\n      <th>4</th>\n      <td>F.Undergrad</td>\n      <td>0.071602</td>\n    </tr>\n    <tr>\n      <th>5</th>\n      <td>Room.Board</td>\n      <td>0.065065</td>\n    </tr>\n    <tr>\n      <th>6</th>\n      <td>Books</td>\n      <td>0.046812</td>\n    </tr>\n    <tr>\n      <th>7</th>\n      <td>Terminal</td>\n      <td>0.021210</td>\n    </tr>\n    <tr>\n      <th>8</th>\n      <td>Expend</td>\n      <td>0.020525</td>\n    </tr>\n    <tr>\n      <th>9</th>\n      <td>Enroll</td>\n      <td>0.017492</td>\n    </tr>\n    <tr>\n      <th>10</th>\n      <td>S.F.Ratio</td>\n      <td>0.016572</td>\n    </tr>\n    <tr>\n      <th>11</th>\n      <td>P.Undergrad</td>\n      <td>0.015356</td>\n    </tr>\n    <tr>\n      <th>12</th>\n      <td>perc.alumni</td>\n      <td>0.013923</td>\n    </tr>\n    <tr>\n      <th>13</th>\n      <td>Personal</td>\n      <td>0.013566</td>\n    </tr>\n    <tr>\n      <th>14</th>\n      <td>PhD</td>\n      <td>0.009100</td>\n    </tr>\n    <tr>\n      <th>15</th>\n      <td>Private</td>\n      <td>0.000423</td>\n    </tr>\n  </tbody>\n</table>\n</div>"
     },
     "execution_count": 16,
     "metadata": {},
     "output_type": "execute_result"
    }
   ],
   "source": [
    "feature_importance_df_regressor"
   ],
   "metadata": {
    "collapsed": false,
    "ExecuteTime": {
     "start_time": "2023-11-02T21:01:21.259928Z",
     "end_time": "2023-11-02T21:01:21.267217Z"
    }
   }
  },
  {
   "cell_type": "code",
   "execution_count": 18,
   "outputs": [
    {
     "data": {
      "text/plain": "<Figure size 1000x800 with 1 Axes>",
      "image/png": "[encoded data removed]"
     },
     "metadata": {},
     "output_type": "display_data"
    }
   ],
   "source": [
    "import matplotlib.pyplot as plt\n",
    "plt.figure(figsize=(10, 8))\n",
    "plt.barh(range(len(X_cols)), feature_importance_df_regressor['Importance'], align='center')\n",
    "plt.yticks(range(len(X_cols)), feature_importance_df_regressor['Feature'])\n",
    "plt.gca().invert_yaxis()  # Invert y-axis to have the feature with the highest importance at the top\n",
    "plt.xlabel('Feature Importance Score')\n",
    "plt.ylabel('Features')\n",
    "plt.title('Feature Importance - Gradient Boosting Regressor Model')\n",
    "plt.show()"
   ],
   "metadata": {
    "collapsed": false,
    "ExecuteTime": {
     "start_time": "2023-11-02T21:03:15.807501Z",
     "end_time": "2023-11-02T21:03:16.045185Z"
    }
   }
  },
  {
   "cell_type": "markdown",
   "source": [
    "# These importance scores suggest that academic performance metrics (like Top25perc, Grad.Rate, and Top10perc) and financial aspects (like Outstate and Room.Board) are significant predictors in the model.\n",
    "Top25perc (0.232730): This feature has the highest importance score, indicating that it is the most influential in predicting the model's outcome.\n",
    "Grad.Rate (0.171670): The graduation rate is the second most important feature, which is quite intuitive as it's likely a key indicator of a college's success or the academic level of its students.\n"
   ],
   "metadata": {
    "collapsed": false
   }
  },
  {
   "cell_type": "code",
   "execution_count": null,
   "outputs": [],
   "source": [],
   "metadata": {
    "collapsed": false
   }
  }
 ],
 "metadata": {
  "kernelspec": {
   "display_name": "Python 3",
   "language": "python",
   "name": "python3"
  },
  "language_info": {
   "codemirror_mode": {
    "name": "ipython",
    "version": 2
   },
   "file_extension": ".py",
   "mimetype": "text/x-python",
   "name": "python",
   "nbconvert_exporter": "python",
   "pygments_lexer": "ipython2",
   "version": "2.7.6"
  }
 },
 "nbformat": 4,
 "nbformat_minor": 0
}
