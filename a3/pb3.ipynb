{
 "cells": [
  {
   "cell_type": "code",
   "execution_count": 1,
   "metadata": {
    "collapsed": true,
    "ExecuteTime": {
     "start_time": "2023-10-30T16:14:02.998599Z",
     "end_time": "2023-10-30T16:14:05.765074Z"
    }
   },
   "outputs": [],
   "source": [
    "import pandas as pd"
   ]
  },
  {
   "cell_type": "code",
   "execution_count": 2,
   "outputs": [],
   "source": [
    "data = pd.read_csv(\"spambase/spambase.data\", delimiter=\",\", header=None)"
   ],
   "metadata": {
    "collapsed": false,
    "ExecuteTime": {
     "start_time": "2023-10-30T16:14:05.767349Z",
     "end_time": "2023-10-30T16:14:05.805356Z"
    }
   }
  },
  {
   "cell_type": "code",
   "execution_count": 3,
   "outputs": [],
   "source": [
    "with open(\"spambase/spambase.names\", 'r') as file:\n",
    "    text_array = file.readlines()"
   ],
   "metadata": {
    "collapsed": false,
    "ExecuteTime": {
     "start_time": "2023-10-30T16:14:05.798298Z",
     "end_time": "2023-10-30T16:14:05.805710Z"
    }
   }
  },
  {
   "cell_type": "code",
   "execution_count": 4,
   "outputs": [
    {
     "name": "stdout",
     "output_type": "stream",
     "text": [
      "58\n"
     ]
    }
   ],
   "source": [
    "attributes = [line.split(\":\")[0].strip() for line in text_array]\n",
    "attributes.append(\"target\")\n",
    "print(len(attributes))"
   ],
   "metadata": {
    "collapsed": false,
    "ExecuteTime": {
     "start_time": "2023-10-30T16:14:05.808324Z",
     "end_time": "2023-10-30T16:14:05.812665Z"
    }
   }
  },
  {
   "cell_type": "code",
   "execution_count": 5,
   "outputs": [],
   "source": [
    "data.columns = attributes"
   ],
   "metadata": {
    "collapsed": false,
    "ExecuteTime": {
     "start_time": "2023-10-30T16:14:05.816728Z",
     "end_time": "2023-10-30T16:14:05.820000Z"
    }
   }
  },
  {
   "cell_type": "code",
   "execution_count": 6,
   "outputs": [
    {
     "data": {
      "text/plain": "      word_freq_make  word_freq_address  word_freq_all  word_freq_3d  \\\n0               0.00               0.64           0.64           0.0   \n1               0.21               0.28           0.50           0.0   \n2               0.06               0.00           0.71           0.0   \n3               0.00               0.00           0.00           0.0   \n4               0.00               0.00           0.00           0.0   \n...              ...                ...            ...           ...   \n4596            0.31               0.00           0.62           0.0   \n4597            0.00               0.00           0.00           0.0   \n4598            0.30               0.00           0.30           0.0   \n4599            0.96               0.00           0.00           0.0   \n4600            0.00               0.00           0.65           0.0   \n\n      word_freq_our  word_freq_over  word_freq_remove  word_freq_internet  \\\n0              0.32            0.00              0.00                0.00   \n1              0.14            0.28              0.21                0.07   \n2              1.23            0.19              0.19                0.12   \n3              0.63            0.00              0.31                0.63   \n4              0.63            0.00              0.31                0.63   \n...             ...             ...               ...                 ...   \n4596           0.00            0.31              0.00                0.00   \n4597           0.00            0.00              0.00                0.00   \n4598           0.00            0.00              0.00                0.00   \n4599           0.32            0.00              0.00                0.00   \n4600           0.00            0.00              0.00                0.00   \n\n      word_freq_order  word_freq_mail  ...  char_freq_;  char_freq_(  \\\n0                0.00            0.00  ...        0.000        0.000   \n1                0.00            0.94  ...        0.000        0.132   \n2                0.64            0.25  ...        0.010        0.143   \n3                0.31            0.63  ...        0.000        0.137   \n4                0.31            0.63  ...        0.000        0.135   \n...               ...             ...  ...          ...          ...   \n4596             0.00            0.00  ...        0.000        0.232   \n4597             0.00            0.00  ...        0.000        0.000   \n4598             0.00            0.00  ...        0.102        0.718   \n4599             0.00            0.00  ...        0.000        0.057   \n4600             0.00            0.00  ...        0.000        0.000   \n\n      char_freq_[  char_freq_!  char_freq_$  char_freq_#  \\\n0             0.0        0.778        0.000        0.000   \n1             0.0        0.372        0.180        0.048   \n2             0.0        0.276        0.184        0.010   \n3             0.0        0.137        0.000        0.000   \n4             0.0        0.135        0.000        0.000   \n...           ...          ...          ...          ...   \n4596          0.0        0.000        0.000        0.000   \n4597          0.0        0.353        0.000        0.000   \n4598          0.0        0.000        0.000        0.000   \n4599          0.0        0.000        0.000        0.000   \n4600          0.0        0.125        0.000        0.000   \n\n      capital_run_length_average  capital_run_length_longest  \\\n0                          3.756                          61   \n1                          5.114                         101   \n2                          9.821                         485   \n3                          3.537                          40   \n4                          3.537                          40   \n...                          ...                         ...   \n4596                       1.142                           3   \n4597                       1.555                           4   \n4598                       1.404                           6   \n4599                       1.147                           5   \n4600                       1.250                           5   \n\n      capital_run_length_total  target  \n0                          278       1  \n1                         1028       1  \n2                         2259       1  \n3                          191       1  \n4                          191       1  \n...                        ...     ...  \n4596                        88       0  \n4597                        14       0  \n4598                       118       0  \n4599                        78       0  \n4600                        40       0  \n\n[4601 rows x 58 columns]",
      "text/html": "<div>\n<style scoped>\n    .dataframe tbody tr th:only-of-type {\n        vertical-align: middle;\n    }\n\n    .dataframe tbody tr th {\n        vertical-align: top;\n    }\n\n    .dataframe thead th {\n        text-align: right;\n    }\n</style>\n<table border=\"1\" class=\"dataframe\">\n  <thead>\n    <tr style=\"text-align: right;\">\n      <th></th>\n      <th>word_freq_make</th>\n      <th>word_freq_address</th>\n      <th>word_freq_all</th>\n      <th>word_freq_3d</th>\n      <th>word_freq_our</th>\n      <th>word_freq_over</th>\n      <th>word_freq_remove</th>\n      <th>word_freq_internet</th>\n      <th>word_freq_order</th>\n      <th>word_freq_mail</th>\n      <th>...</th>\n      <th>char_freq_;</th>\n      <th>char_freq_(</th>\n      <th>char_freq_[</th>\n      <th>char_freq_!</th>\n      <th>char_freq_$</th>\n      <th>char_freq_#</th>\n      <th>capital_run_length_average</th>\n      <th>capital_run_length_longest</th>\n      <th>capital_run_length_total</th>\n      <th>target</th>\n    </tr>\n  </thead>\n  <tbody>\n    <tr>\n      <th>0</th>\n      <td>0.00</td>\n      <td>0.64</td>\n      <td>0.64</td>\n      <td>0.0</td>\n      <td>0.32</td>\n      <td>0.00</td>\n      <td>0.00</td>\n      <td>0.00</td>\n      <td>0.00</td>\n      <td>0.00</td>\n      <td>...</td>\n      <td>0.000</td>\n      <td>0.000</td>\n      <td>0.0</td>\n      <td>0.778</td>\n      <td>0.000</td>\n      <td>0.000</td>\n      <td>3.756</td>\n      <td>61</td>\n      <td>278</td>\n      <td>1</td>\n    </tr>\n    <tr>\n      <th>1</th>\n      <td>0.21</td>\n      <td>0.28</td>\n      <td>0.50</td>\n      <td>0.0</td>\n      <td>0.14</td>\n      <td>0.28</td>\n      <td>0.21</td>\n      <td>0.07</td>\n      <td>0.00</td>\n      <td>0.94</td>\n      <td>...</td>\n      <td>0.000</td>\n      <td>0.132</td>\n      <td>0.0</td>\n      <td>0.372</td>\n      <td>0.180</td>\n      <td>0.048</td>\n      <td>5.114</td>\n      <td>101</td>\n      <td>1028</td>\n      <td>1</td>\n    </tr>\n    <tr>\n      <th>2</th>\n      <td>0.06</td>\n      <td>0.00</td>\n      <td>0.71</td>\n      <td>0.0</td>\n      <td>1.23</td>\n      <td>0.19</td>\n      <td>0.19</td>\n      <td>0.12</td>\n      <td>0.64</td>\n      <td>0.25</td>\n      <td>...</td>\n      <td>0.010</td>\n      <td>0.143</td>\n      <td>0.0</td>\n      <td>0.276</td>\n      <td>0.184</td>\n      <td>0.010</td>\n      <td>9.821</td>\n      <td>485</td>\n      <td>2259</td>\n      <td>1</td>\n    </tr>\n    <tr>\n      <th>3</th>\n      <td>0.00</td>\n      <td>0.00</td>\n      <td>0.00</td>\n      <td>0.0</td>\n      <td>0.63</td>\n      <td>0.00</td>\n      <td>0.31</td>\n      <td>0.63</td>\n      <td>0.31</td>\n      <td>0.63</td>\n      <td>...</td>\n      <td>0.000</td>\n      <td>0.137</td>\n      <td>0.0</td>\n      <td>0.137</td>\n      <td>0.000</td>\n      <td>0.000</td>\n      <td>3.537</td>\n      <td>40</td>\n      <td>191</td>\n      <td>1</td>\n    </tr>\n    <tr>\n      <th>4</th>\n      <td>0.00</td>\n      <td>0.00</td>\n      <td>0.00</td>\n      <td>0.0</td>\n      <td>0.63</td>\n      <td>0.00</td>\n      <td>0.31</td>\n      <td>0.63</td>\n      <td>0.31</td>\n      <td>0.63</td>\n      <td>...</td>\n      <td>0.000</td>\n      <td>0.135</td>\n      <td>0.0</td>\n      <td>0.135</td>\n      <td>0.000</td>\n      <td>0.000</td>\n      <td>3.537</td>\n      <td>40</td>\n      <td>191</td>\n      <td>1</td>\n    </tr>\n    <tr>\n      <th>...</th>\n      <td>...</td>\n      <td>...</td>\n      <td>...</td>\n      <td>...</td>\n      <td>...</td>\n      <td>...</td>\n      <td>...</td>\n      <td>...</td>\n      <td>...</td>\n      <td>...</td>\n      <td>...</td>\n      <td>...</td>\n      <td>...</td>\n      <td>...</td>\n      <td>...</td>\n      <td>...</td>\n      <td>...</td>\n      <td>...</td>\n      <td>...</td>\n      <td>...</td>\n      <td>...</td>\n    </tr>\n    <tr>\n      <th>4596</th>\n      <td>0.31</td>\n      <td>0.00</td>\n      <td>0.62</td>\n      <td>0.0</td>\n      <td>0.00</td>\n      <td>0.31</td>\n      <td>0.00</td>\n      <td>0.00</td>\n      <td>0.00</td>\n      <td>0.00</td>\n      <td>...</td>\n      <td>0.000</td>\n      <td>0.232</td>\n      <td>0.0</td>\n      <td>0.000</td>\n      <td>0.000</td>\n      <td>0.000</td>\n      <td>1.142</td>\n      <td>3</td>\n      <td>88</td>\n      <td>0</td>\n    </tr>\n    <tr>\n      <th>4597</th>\n      <td>0.00</td>\n      <td>0.00</td>\n      <td>0.00</td>\n      <td>0.0</td>\n      <td>0.00</td>\n      <td>0.00</td>\n      <td>0.00</td>\n      <td>0.00</td>\n      <td>0.00</td>\n      <td>0.00</td>\n      <td>...</td>\n      <td>0.000</td>\n      <td>0.000</td>\n      <td>0.0</td>\n      <td>0.353</td>\n      <td>0.000</td>\n      <td>0.000</td>\n      <td>1.555</td>\n      <td>4</td>\n      <td>14</td>\n      <td>0</td>\n    </tr>\n    <tr>\n      <th>4598</th>\n      <td>0.30</td>\n      <td>0.00</td>\n      <td>0.30</td>\n      <td>0.0</td>\n      <td>0.00</td>\n      <td>0.00</td>\n      <td>0.00</td>\n      <td>0.00</td>\n      <td>0.00</td>\n      <td>0.00</td>\n      <td>...</td>\n      <td>0.102</td>\n      <td>0.718</td>\n      <td>0.0</td>\n      <td>0.000</td>\n      <td>0.000</td>\n      <td>0.000</td>\n      <td>1.404</td>\n      <td>6</td>\n      <td>118</td>\n      <td>0</td>\n    </tr>\n    <tr>\n      <th>4599</th>\n      <td>0.96</td>\n      <td>0.00</td>\n      <td>0.00</td>\n      <td>0.0</td>\n      <td>0.32</td>\n      <td>0.00</td>\n      <td>0.00</td>\n      <td>0.00</td>\n      <td>0.00</td>\n      <td>0.00</td>\n      <td>...</td>\n      <td>0.000</td>\n      <td>0.057</td>\n      <td>0.0</td>\n      <td>0.000</td>\n      <td>0.000</td>\n      <td>0.000</td>\n      <td>1.147</td>\n      <td>5</td>\n      <td>78</td>\n      <td>0</td>\n    </tr>\n    <tr>\n      <th>4600</th>\n      <td>0.00</td>\n      <td>0.00</td>\n      <td>0.65</td>\n      <td>0.0</td>\n      <td>0.00</td>\n      <td>0.00</td>\n      <td>0.00</td>\n      <td>0.00</td>\n      <td>0.00</td>\n      <td>0.00</td>\n      <td>...</td>\n      <td>0.000</td>\n      <td>0.000</td>\n      <td>0.0</td>\n      <td>0.125</td>\n      <td>0.000</td>\n      <td>0.000</td>\n      <td>1.250</td>\n      <td>5</td>\n      <td>40</td>\n      <td>0</td>\n    </tr>\n  </tbody>\n</table>\n<p>4601 rows × 58 columns</p>\n</div>"
     },
     "execution_count": 6,
     "metadata": {},
     "output_type": "execute_result"
    }
   ],
   "source": [
    "data"
   ],
   "metadata": {
    "collapsed": false,
    "ExecuteTime": {
     "start_time": "2023-10-30T16:14:05.828585Z",
     "end_time": "2023-10-30T16:14:05.917662Z"
    }
   }
  },
  {
   "cell_type": "code",
   "execution_count": 7,
   "outputs": [],
   "source": [
    "x_cols = attributes[:-1]"
   ],
   "metadata": {
    "collapsed": false,
    "ExecuteTime": {
     "start_time": "2023-10-30T16:14:05.866063Z",
     "end_time": "2023-10-30T16:14:05.918082Z"
    }
   }
  },
  {
   "cell_type": "code",
   "execution_count": 8,
   "outputs": [],
   "source": [
    "from sklearn.model_selection import train_test_split\n",
    "x_train, x_test, y_train, y_test = train_test_split(data[x_cols], data[\"target\"], random_state=42, test_size=0.2)"
   ],
   "metadata": {
    "collapsed": false,
    "ExecuteTime": {
     "start_time": "2023-10-30T16:14:08.876248Z",
     "end_time": "2023-10-30T16:14:21.585495Z"
    }
   }
  },
  {
   "cell_type": "code",
   "execution_count": 40,
   "outputs": [
    {
     "name": "stdout",
     "output_type": "stream",
     "text": [
      "The best value of p is: 49 with a cross-validation error of: 0.081\n"
     ]
    }
   ],
   "source": [
    "from sklearn.utils import resample\n",
    "from sklearn.tree import DecisionTreeClassifier\n",
    "import numpy as np\n",
    "from sklearn.model_selection import cross_val_score\n",
    "best_p = 0\n",
    "best_score = float('inf')\n",
    "best_cols = []\n",
    "# Varying p\n",
    "for p in range(1, x_train.shape[1] + 1):\n",
    "    # Creating bootstrap sample\n",
    "    col_subset = np.random.choice(x_cols, p, True)\n",
    "    X_sample, y_sample = resample(x_train, y_train, n_samples=1000, random_state=42)\n",
    "    X_sample = X_sample[col_subset]\n",
    "\n",
    "    # Train a decision tree classifier with depth 6\n",
    "    clf = DecisionTreeClassifier(max_depth=6, random_state=42)\n",
    "    score = -np.mean(cross_val_score(clf, X_sample, y_sample, cv=5, scoring='neg_mean_squared_error'))\n",
    "\n",
    "    if score < best_score:\n",
    "        best_cols = col_subset\n",
    "        best_score = score\n",
    "        best_p = p\n",
    "\n",
    "print(f\"The best value of p is: {best_p} with a cross-validation error of: {best_score}\")"
   ],
   "metadata": {
    "collapsed": false,
    "ExecuteTime": {
     "start_time": "2023-10-30T16:49:21.848132Z",
     "end_time": "2023-10-30T16:49:24.772737Z"
    }
   }
  },
  {
   "cell_type": "code",
   "execution_count": 42,
   "outputs": [],
   "source": [
    "def random_forest(X_train, y_train, T, max_depth=6):\n",
    "    trees = []\n",
    "    tree_cols = []\n",
    "    col_subset = best_cols\n",
    "    for _ in range(T):\n",
    "        # Bootstrap sampling\n",
    "        X_sample, y_sample = resample(X_train, y_train, n_samples=1000)\n",
    "        X_sample = X_sample[col_subset]\n",
    "\n",
    "        # Train decision tree\n",
    "        tree = DecisionTreeClassifier(max_depth=max_depth, random_state=42)\n",
    "        tree.fit(X_sample, y_sample)\n",
    "        trees.append(tree)\n",
    "        tree_cols.append(col_subset)\n",
    "    return trees, tree_cols\n",
    "\n",
    "def predict_rf(trees, X, col_sub):\n",
    "    predictions = []\n",
    "    for tree, cols in zip(trees, col_sub):\n",
    "        predictions.append(tree.predict(X[cols]))\n",
    "\n",
    "    # Majority voting\n",
    "    final_predictions = np.apply_along_axis(lambda x: np.bincount(x).argmax(), axis=0, arr=np.array(predictions))\n",
    "    return final_predictions\n",
    "\n",
    "Ts = [1, 50, 100, 150, 200, 300, 400]\n",
    "train_preds = []\n",
    "test_preds = []\n",
    "for T in Ts:\n",
    "    trees, tree_cols = random_forest(x_train, y_train, T)\n",
    "    train_preds.append(predict_rf(trees, x_train, tree_cols))\n",
    "    test_preds.append(predict_rf(trees, x_test, tree_cols))"
   ],
   "metadata": {
    "collapsed": false,
    "ExecuteTime": {
     "start_time": "2023-10-30T16:50:14.162218Z",
     "end_time": "2023-10-30T16:50:35.788562Z"
    }
   }
  },
  {
   "cell_type": "code",
   "execution_count": 43,
   "outputs": [
    {
     "name": "stdout",
     "output_type": "stream",
     "text": [
      "training error for T = 1 :3.4280648603779897\n",
      "training error for T = 50 :2.634712706976227\n",
      "training error for T = 100 :2.791424243450649\n",
      "training error for T = 150 :2.762040830361695\n",
      "training error for T = 200 :2.7130684752134377\n",
      "training error for T = 300 :2.683685062124484\n",
      "training error for T = 400 :2.7130684752134377\n"
     ]
    }
   ],
   "source": [
    "from sklearn.metrics import f1_score, auc, log_loss\n",
    "for t, t_pred in zip(Ts, train_preds):\n",
    "    print(f\"training error for T = {t} :{log_loss(y_train, t_pred)}\")"
   ],
   "metadata": {
    "collapsed": false,
    "ExecuteTime": {
     "start_time": "2023-10-30T16:50:37.246757Z",
     "end_time": "2023-10-30T16:50:37.278438Z"
    }
   }
  },
  {
   "cell_type": "code",
   "execution_count": 44,
   "outputs": [
    {
     "name": "stdout",
     "output_type": "stream",
     "text": [
      "test error for T = 1 :4.070075952734184\n",
      "test error for T = 50 :3.3265043844462086\n",
      "test error for T = 100 :3.44391042154431\n",
      "test error for T = 150 :3.3656397301455754\n",
      "test error for T = 200 :3.483045767243677\n",
      "test error for T = 300 :3.44391042154431\n",
      "test error for T = 400 :3.4047750758449427\n"
     ]
    }
   ],
   "source": [
    "for t, test_pred in zip(Ts, test_preds):\n",
    "    print(f\"test error for T = {t} :{log_loss(y_test, test_pred)}\")"
   ],
   "metadata": {
    "collapsed": false,
    "ExecuteTime": {
     "start_time": "2023-10-30T16:50:40.020346Z",
     "end_time": "2023-10-30T16:50:40.040686Z"
    }
   }
  },
  {
   "cell_type": "code",
   "execution_count": 45,
   "outputs": [
    {
     "name": "stdout",
     "output_type": "stream",
     "text": [
      "F1 score for T = 1 :0.8575342465753424\n",
      "F1 score for T = 50 :0.8830811554332876\n",
      "F1 score for T = 100 :0.8787878787878787\n",
      "F1 score for T = 150 :0.8821917808219178\n",
      "F1 score for T = 200 :0.877914951989026\n",
      "F1 score for T = 300 :0.8794520547945205\n",
      "F1 score for T = 400 :0.8809849521203831\n"
     ]
    }
   ],
   "source": [
    "for t, test_pred in zip(Ts, test_preds):\n",
    "    print(f\"F1 score for T = {t} :{f1_score(y_test, test_pred)}\")"
   ],
   "metadata": {
    "collapsed": false,
    "ExecuteTime": {
     "start_time": "2023-10-30T16:50:41.909762Z",
     "end_time": "2023-10-30T16:50:41.939607Z"
    }
   }
  },
  {
   "cell_type": "code",
   "execution_count": 46,
   "outputs": [
    {
     "name": "stdout",
     "output_type": "stream",
     "text": [
      "AUC for T = 1 :0.875858322468492\n",
      "AUC for T = 50 :0.8964725481674635\n",
      "AUC for T = 100 :0.8929668260176734\n",
      "AUC for T = 150 :0.8958713602781398\n",
      "AUC for T = 200 :0.89236563812835\n",
      "AUC for T = 300 :0.8936476894104012\n",
      "AUC for T = 400 :0.8949297406924525\n"
     ]
    }
   ],
   "source": [
    "from sklearn.metrics import roc_curve\n",
    "for t, test_pred in zip(Ts, test_preds):\n",
    "    fpr, tpr, thresholds = roc_curve(y_test, test_pred)\n",
    "    print(f\"AUC for T = {t} :{auc(fpr, tpr)}\")"
   ],
   "metadata": {
    "collapsed": false,
    "ExecuteTime": {
     "start_time": "2023-10-30T16:50:46.304780Z",
     "end_time": "2023-10-30T16:50:46.318934Z"
    }
   }
  },
  {
   "cell_type": "code",
   "execution_count": 33,
   "outputs": [
    {
     "name": "stdout",
     "output_type": "stream",
     "text": [
      "For 10 trees:\n",
      "Training loss: 0.19588942059302822, Test loss: 0.9402823018458197\n",
      "Training F1: 0.9929378531073447, Test F1: 0.9261744966442953\n",
      "Training AUC: 0.9933621051209153, Test AUC: 0.9328914964508185\n",
      "For 50 trees:\n",
      "Training loss: 0.019588942059303022, Test loss: 0.9489685124864278\n",
      "Training F1: 0.9992972593113141, Test F1: 0.9377483443708609\n",
      "Training AUC: 0.9994270966472387, Test AUC: 0.9434883384035926\n",
      "For 100 trees:\n",
      "Training loss: 0.019588942059303022, Test loss: 0.9554831704668838\n",
      "Training F1: 0.99929676511955, Test F1: 0.9458388375165125\n",
      "Training AUC: 0.9992972593113141, Test AUC: 0.9504997827031725\n",
      "Top 10 features: Index(['word_freq_you', 'word_freq_hp', 'word_freq_your',\n",
      "       'capital_run_length_total', 'capital_run_length_average',\n",
      "       'capital_run_length_longest', 'word_freq_free', 'word_freq_remove',\n",
      "       'char_freq_$', 'char_freq_!'],\n",
      "      dtype='object')\n"
     ]
    }
   ],
   "source": [
    "from sklearn.ensemble import RandomForestClassifier\n",
    "from sklearn.metrics import accuracy_score, f1_score, roc_auc_score\n",
    "\n",
    "trees = [10, 50, 100]\n",
    "for T in trees:\n",
    "    rf = RandomForestClassifier(n_estimators=T, random_state=42)\n",
    "    rf.fit(x_train, y_train)\n",
    "    train_pred = rf.predict(x_train)\n",
    "    test_pred = rf.predict(x_test)\n",
    "\n",
    "    # Reporting metrics\n",
    "    train_loss = log_loss(y_train, train_pred)\n",
    "    test_loss = accuracy_score(y_test, test_pred)\n",
    "\n",
    "    train_f1 = f1_score(y_train, train_pred)\n",
    "    test_f1 = f1_score(y_test, test_pred)\n",
    "\n",
    "    train_auc = roc_auc_score(y_train, train_pred)\n",
    "    test_auc = roc_auc_score(y_test, test_pred)\n",
    "\n",
    "    print(f\"For {T} trees:\")\n",
    "    print(f\"Training loss: {train_loss}, Test loss: {test_loss}\")\n",
    "    print(f\"Training F1: {train_f1}, Test F1: {test_f1}\")\n",
    "    print(f\"Training AUC: {train_auc}, Test AUC: {test_auc}\")\n",
    "\n",
    "# Top 10 features\n",
    "importances = rf.feature_importances_\n",
    "indices = np.argsort(importances)[-10:]\n",
    "print(\"Top 10 features:\", data.columns[indices])\n"
   ],
   "metadata": {
    "collapsed": false,
    "ExecuteTime": {
     "start_time": "2023-10-30T16:32:53.342403Z",
     "end_time": "2023-10-30T16:32:54.900553Z"
    }
   }
  },
  {
   "cell_type": "code",
   "execution_count": null,
   "outputs": [],
   "source": [],
   "metadata": {
    "collapsed": false
   }
  }
 ],
 "metadata": {
  "kernelspec": {
   "display_name": "Python 3",
   "language": "python",
   "name": "python3"
  },
  "language_info": {
   "codemirror_mode": {
    "name": "ipython",
    "version": 2
   },
   "file_extension": ".py",
   "mimetype": "text/x-python",
   "name": "python",
   "nbconvert_exporter": "python",
   "pygments_lexer": "ipython2",
   "version": "2.7.6"
  }
 },
 "nbformat": 4,
 "nbformat_minor": 0
}
