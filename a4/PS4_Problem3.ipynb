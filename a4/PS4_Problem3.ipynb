{
  "cells": [
    {
      "cell_type": "markdown",
      "metadata": {
        "id": "LVqRbIzfWy2C"
      },
      "source": [
        "# Implement a convolutional neural network to recognize hand-written digits"
      ]
    },
    {
      "cell_type": "code",
      "execution_count": null,
      "metadata": {
        "id": "Q0dniLZCWy2E"
      },
      "outputs": [],
      "source": [
        "# Uncomment the below line and run to install required packages if you have not done so\n",
        "\n",
        "# !pip install torch torchvision matplotlib tqdm"
      ]
    },
    {
      "cell_type": "code",
      "execution_count": 1,
      "metadata": {
        "id": "3uYPUfKOWy2F",
        "colab": {
          "base_uri": "https://localhost:8080/"
        },
        "outputId": "a326dc98-59d4-4c64-dff2-be0a9d377b02"
      },
      "outputs": [
        {
          "output_type": "execute_result",
          "data": {
            "text/plain": [
              "<torch._C.Generator at 0x7b314c281210>"
            ]
          },
          "metadata": {},
          "execution_count": 1
        }
      ],
      "source": [
        "# Setup\n",
        "import torch\n",
        "import matplotlib.pyplot as plt\n",
        "import numpy as np\n",
        "from torchvision import datasets, transforms\n",
        "from tqdm import trange\n",
        "\n",
        "%matplotlib inline\n",
        "DEVICE = 'cuda' if torch.cuda.is_available() else 'cpu'\n",
        "\n",
        "# Set random seed for reproducibility\n",
        "seed = 1234\n",
        "# cuDNN uses nondeterministic algorithms, set some options for reproducibility\n",
        "torch.backends.cudnn.deterministic = True\n",
        "torch.backends.cudnn.benchmark = False\n",
        "torch.manual_seed(seed)"
      ]
    },
    {
      "cell_type": "markdown",
      "metadata": {
        "id": "eb6ccQ6ZWy2F"
      },
      "source": [
        "## Get MNIST Data\n",
        "The `torchvision` package provides a wrapper to download MNIST data. The cell below downloads the training and test datasets and creates dataloaders for each."
      ]
    },
    {
      "cell_type": "code",
      "execution_count": 2,
      "metadata": {
        "id": "OXf03p7DWy2F",
        "colab": {
          "base_uri": "https://localhost:8080/"
        },
        "outputId": "28b2d14b-85f2-406d-c3e1-c3d005a06118"
      },
      "outputs": [
        {
          "output_type": "stream",
          "name": "stdout",
          "text": [
            "Downloading http://yann.lecun.com/exdb/mnist/train-images-idx3-ubyte.gz\n",
            "Downloading http://yann.lecun.com/exdb/mnist/train-images-idx3-ubyte.gz to data/MNIST/raw/train-images-idx3-ubyte.gz\n"
          ]
        },
        {
          "output_type": "stream",
          "name": "stderr",
          "text": [
            "100%|██████████| 9912422/9912422 [00:00<00:00, 119553228.66it/s]\n"
          ]
        },
        {
          "output_type": "stream",
          "name": "stdout",
          "text": [
            "Extracting data/MNIST/raw/train-images-idx3-ubyte.gz to data/MNIST/raw\n",
            "\n",
            "Downloading http://yann.lecun.com/exdb/mnist/train-labels-idx1-ubyte.gz\n",
            "Downloading http://yann.lecun.com/exdb/mnist/train-labels-idx1-ubyte.gz to data/MNIST/raw/train-labels-idx1-ubyte.gz\n"
          ]
        },
        {
          "output_type": "stream",
          "name": "stderr",
          "text": [
            "100%|██████████| 28881/28881 [00:00<00:00, 27726183.07it/s]\n"
          ]
        },
        {
          "output_type": "stream",
          "name": "stdout",
          "text": [
            "Extracting data/MNIST/raw/train-labels-idx1-ubyte.gz to data/MNIST/raw\n",
            "\n",
            "Downloading http://yann.lecun.com/exdb/mnist/t10k-images-idx3-ubyte.gz\n",
            "Downloading http://yann.lecun.com/exdb/mnist/t10k-images-idx3-ubyte.gz to data/MNIST/raw/t10k-images-idx3-ubyte.gz\n"
          ]
        },
        {
          "output_type": "stream",
          "name": "stderr",
          "text": [
            "100%|██████████| 1648877/1648877 [00:00<00:00, 24410952.62it/s]\n"
          ]
        },
        {
          "output_type": "stream",
          "name": "stdout",
          "text": [
            "Extracting data/MNIST/raw/t10k-images-idx3-ubyte.gz to data/MNIST/raw\n",
            "\n",
            "Downloading http://yann.lecun.com/exdb/mnist/t10k-labels-idx1-ubyte.gz\n",
            "Downloading http://yann.lecun.com/exdb/mnist/t10k-labels-idx1-ubyte.gz to data/MNIST/raw/t10k-labels-idx1-ubyte.gz\n"
          ]
        },
        {
          "output_type": "stream",
          "name": "stderr",
          "text": [
            "100%|██████████| 4542/4542 [00:00<00:00, 18787503.72it/s]"
          ]
        },
        {
          "output_type": "stream",
          "name": "stdout",
          "text": [
            "Extracting data/MNIST/raw/t10k-labels-idx1-ubyte.gz to data/MNIST/raw\n",
            "\n"
          ]
        },
        {
          "output_type": "stream",
          "name": "stderr",
          "text": [
            "\n"
          ]
        },
        {
          "output_type": "stream",
          "name": "stdout",
          "text": [
            "Train Data: Mean=0.1306604762738429, Std=0.30810780717887876\n"
          ]
        }
      ],
      "source": [
        "# Initial transform (convert to PyTorch Tensor only)\n",
        "transform = transforms.Compose([\n",
        "    transforms.ToTensor(),\n",
        "])\n",
        "\n",
        "train_data = datasets.MNIST('data', train=True, download=True, transform=transform)\n",
        "test_data = datasets.MNIST('data', train=False, download=True, transform=transform)\n",
        "\n",
        "## Use the following lines to check the basic statistics of this dataset\n",
        "# Calculate training data mean and standard deviation to apply normalization to data\n",
        "# train_data.data are of type uint8 (range 0,255) so divide by 255.\n",
        "train_mean = train_data.data.double().mean() / 255.\n",
        "train_std = train_data.data.double().std() / 255.\n",
        "print(f'Train Data: Mean={train_mean}, Std={train_std}')\n",
        "\n",
        "## Optional: Perform normalization of train and test data using calculated training mean and standard deviation\n",
        "# This will convert data to be approximately standard normal\n",
        "transform = transforms.Compose([\n",
        "   transforms.ToTensor(),\n",
        "   transforms.Normalize((train_mean, ), (train_std, ))\n",
        "])\n",
        "\n",
        "train_data.transform = transform\n",
        "test_data.transform = transform\n",
        "\n",
        "batch_size = 64\n",
        "torch.manual_seed(seed)\n",
        "train_loader = torch.utils.data.DataLoader(train_data, batch_size=batch_size, shuffle=True, num_workers=True)\n",
        "test_loader = torch.utils.data.DataLoader(test_data, batch_size=batch_size, shuffle=False, num_workers=True)"
      ]
    },
    {
      "cell_type": "markdown",
      "metadata": {
        "id": "MKcwGCTqWy2G"
      },
      "source": [
        "## Part 0: Inspect dataset"
      ]
    },
    {
      "cell_type": "code",
      "execution_count": 3,
      "metadata": {
        "id": "iHdjMwlSWy2G",
        "tags": [],
        "colab": {
          "base_uri": "https://localhost:8080/",
          "height": 877
        },
        "outputId": "e19c3ccb-4ab9-4002-c8b0-1b3c4330a645"
      },
      "outputs": [
        {
          "output_type": "stream",
          "name": "stdout",
          "text": [
            "Images shape:  torch.Size([64, 1, 28, 28])\n",
            "Labels shape:  torch.Size([64])\n",
            "Mean=0.00834457017481327, Std=1.0060752630233765\n"
          ]
        },
        {
          "output_type": "display_data",
          "data": {
            "text/plain": [
              "<Figure size 1200x1000 with 20 Axes>"
            ],
            "image/png": "[encoded data removed]"
          },
          "metadata": {}
        }
      ],
      "source": [
        "# Randomly sample 20 images of the training dataset\n",
        "# To visualize the i-th sample, use the following code\n",
        "# > plt.subplot(4, 5, i+1)\n",
        "# > plt.imshow(images[i].squeeze(), cmap='gray', interpolation='none')\n",
        "# > plt.title(f'Label: {labels[i]}', fontsize=14)\n",
        "# > plt.axis('off')\n",
        "\n",
        "images, labels = next(iter(train_loader))\n",
        "\n",
        "# Print information and statistics of the first batch of images\n",
        "print(\"Images shape: \", images.shape)\n",
        "print(\"Labels shape: \", labels.shape)\n",
        "print(f'Mean={images.mean()}, Std={images.std()}')\n",
        "\n",
        "fig = plt.figure(figsize=(12, 10))\n",
        "\n",
        "# ------------------\n",
        "# Copy the implementation from Problem 4 here\n",
        "rand_idxs = np.random.choice(len(images), 20, replace=False)\n",
        "for i, idx in enumerate(rand_idxs):\n",
        "  plt.subplot(4, 5, i+1)\n",
        "  plt.imshow(images[i].squeeze(), cmap='gray', interpolation='none')\n",
        "  plt.title(f'Label: {labels[i]}', fontsize=14)\n",
        "  plt.axis('off')\n",
        "\n",
        "# ------------------"
      ]
    },
    {
      "cell_type": "markdown",
      "metadata": {
        "id": "KOwQ3Ad-Wy2G"
      },
      "source": [
        "## Part 1: Implement a convolutional neural network\n",
        "\n",
        "Write a class that constructs a two-layer neural network as specified in the handout. The class consists of two methods, an initialization that sets up the architecture of the model, and a forward pass function given an input feature."
      ]
    },
    {
      "cell_type": "code",
      "execution_count": 12,
      "metadata": {
        "id": "ng8_9yTQWy2G",
        "tags": [],
        "colab": {
          "base_uri": "https://localhost:8080/"
        },
        "outputId": "c94f15b7-a198-478b-9124-c40f76338c11"
      },
      "outputs": [
        {
          "output_type": "stream",
          "name": "stdout",
          "text": [
            "CNN(\n",
            "  (flatten): Flatten(start_dim=1, end_dim=-1)\n",
            "  (conv1): Conv2d(1, 10, kernel_size=(5, 5), stride=(1, 1))\n",
            "  (maxpool1): MaxPool2d(kernel_size=2, stride=2, padding=0, dilation=1, ceil_mode=False)\n",
            "  (conv2): Conv2d(10, 20, kernel_size=(5, 5), stride=(1, 1))\n",
            "  (maxpool2): MaxPool2d(kernel_size=2, stride=2, padding=0, dilation=1, ceil_mode=False)\n",
            "  (fc): Linear(in_features=320, out_features=10, bias=True)\n",
            ")\n"
          ]
        }
      ],
      "source": [
        "input_size = 1 * 28 * 28  # input spatial dimension of images\n",
        "hidden_size = 128         # width of hidden layer\n",
        "output_size = 10          # number of output neurons\n",
        "\n",
        "class CNN(torch.nn.Module):\n",
        "\n",
        "    def __init__(self):\n",
        "\n",
        "        super().__init__()\n",
        "        self.flatten = torch.nn.Flatten(start_dim=1)\n",
        "        # ------------------\n",
        "        # Write your implementation here.\n",
        "        self.conv1 = torch.nn.Conv2d(1, 10, stride=1, kernel_size=5) # first convolutional layer\n",
        "        self.maxpool1 = torch.nn.MaxPool2d(2)\n",
        "        self.conv2 = torch.nn.Conv2d(10, 20, stride=1, kernel_size=5) # second convolutional layer\n",
        "        self.maxpool2 = torch.nn.MaxPool2d(2)\n",
        "        self.fc = torch.nn.Linear(4 * 4 * 20, output_size) # third fully-connected layer\n",
        "        # ------------------\n",
        "\n",
        "    def forward(self, x):\n",
        "        # Input image is of shape [batch_size, 1, 28, 28]\n",
        "        # Need to flatten to [batch_size, 784] before feeding to fc1\n",
        "\n",
        "        # ------------------\n",
        "        # Write your implementation here.\n",
        "        x = self.conv1(x)\n",
        "        x = torch.nn.functional.relu(x)\n",
        "        x = self.maxpool1(x)\n",
        "        x = self.conv2(x)\n",
        "        x = torch.nn.functional.relu(x)\n",
        "        x = self.maxpool2(x)\n",
        "        x = self.flatten(x)\n",
        "        x = self.fc(x)\n",
        "        x = torch.nn.functional.log_softmax(x)\n",
        "        y_output = x\n",
        "\n",
        "        return y_output\n",
        "        # ------------------\n",
        "\n",
        "model = CNN().to(DEVICE)\n",
        "\n",
        "# sanity check\n",
        "print(model)"
      ]
    },
    {
      "cell_type": "markdown",
      "metadata": {
        "id": "5AMZIQ_lWy2H"
      },
      "source": [
        "Write a method called `train_one_epoch` that runs one step using the optimizer."
      ]
    },
    {
      "cell_type": "code",
      "execution_count": 13,
      "metadata": {
        "id": "UaGGhNbRWy2H"
      },
      "outputs": [],
      "source": [
        "def train_one_epoch(train_loader, model, device, optimizer, log_interval, epoch):\n",
        "    model.train()\n",
        "    losses = []\n",
        "    counter = []\n",
        "    criterion = torch.nn.NLLLoss()\n",
        "    for i, (img, label) in enumerate(train_loader):\n",
        "        img, label = img.to(device), label.to(device)\n",
        "\n",
        "        # ------------------\n",
        "        # Copy the implementation from Problem 4 here\n",
        "        optimizer.zero_grad()\n",
        "        output = model(img)\n",
        "        best_pred = torch.argmax(output, dim=1)\n",
        "\n",
        "\n",
        "        loss = criterion(output, label)\n",
        "\n",
        "        loss.backward()\n",
        "        optimizer.step()\n",
        "        # ------------------\n",
        "\n",
        "        # Record training loss every log_interval and keep counter of total training images seen\n",
        "        if (i+1) % log_interval == 0:\n",
        "            losses.append(loss.item())\n",
        "            counter.append(\n",
        "                (i * batch_size) + img.size(0) + epoch * len(train_loader.dataset))\n",
        "\n",
        "    return losses, counter"
      ]
    },
    {
      "cell_type": "markdown",
      "metadata": {
        "id": "M9YHfvLmWy2H"
      },
      "source": [
        "Write a method called `test_one_epoch` that evalutes the trained model on the test dataset. Return the average test loss and the number of samples that the model predicts correctly."
      ]
    },
    {
      "cell_type": "code",
      "execution_count": 14,
      "metadata": {
        "id": "dwLuWp1oWy2H"
      },
      "outputs": [],
      "source": [
        "def test_one_epoch(test_loader, model, device):\n",
        "    model.eval()\n",
        "    test_loss = 0\n",
        "    num_correct = 0\n",
        "    criterion = torch.nn.NLLLoss()\n",
        "    with torch.no_grad():\n",
        "        for i, (img, label) in enumerate(test_loader):\n",
        "            img, label = img.to(device), label.to(device)\n",
        "\n",
        "            # ------------------\n",
        "            # Copy the implementation from Problem 4 here\n",
        "\n",
        "            output = model(img)\n",
        "            pred = torch.argmax(output, dim=1) # Get index of largest log-probability and use that as prediction\n",
        "            num_correct += (pred == label).sum().item()\n",
        "            loss = criterion(output, label)\n",
        "            test_loss += loss.item()\n",
        "\n",
        "            # ------------------\n",
        "\n",
        "    test_loss /= len(test_loader.dataset)\n",
        "    return test_loss, num_correct"
      ]
    },
    {
      "cell_type": "markdown",
      "metadata": {
        "id": "6_05LWXkWy2I"
      },
      "source": [
        "Train the model using the cell below. Hyperparameters are given."
      ]
    },
    {
      "cell_type": "code",
      "execution_count": 15,
      "metadata": {
        "id": "f5m_-rrBWy2I",
        "scrolled": true,
        "tags": [],
        "colab": {
          "base_uri": "https://localhost:8080/"
        },
        "outputId": "110338a0-22c2-46dd-fb99-a53551b59b97"
      },
      "outputs": [
        {
          "output_type": "stream",
          "name": "stderr",
          "text": [
            "\rEpochs:   0%|          | 0/10 [00:00<?, ?it/s]<ipython-input-12-ae7edf7a33a7>:34: UserWarning: Implicit dimension choice for log_softmax has been deprecated. Change the call to include dim=X as an argument.\n",
            "  x = torch.nn.functional.log_softmax(x)\n",
            "Epochs: 100%|██████████| 10/10 [03:21<00:00, 20.14s/it]"
          ]
        },
        {
          "output_type": "stream",
          "name": "stdout",
          "text": [
            "Test accuracy: 0.9863\n"
          ]
        },
        {
          "output_type": "stream",
          "name": "stderr",
          "text": [
            "\n"
          ]
        }
      ],
      "source": [
        "# Hyperparameters\n",
        "lr = 0.01\n",
        "max_epochs=10\n",
        "gamma = 0.95\n",
        "\n",
        "# Recording data\n",
        "log_interval = 100\n",
        "\n",
        "# Instantiate optimizer (model was created in previous cell)\n",
        "optimizer = torch.optim.SGD(model.parameters(), lr=lr)\n",
        "\n",
        "train_losses = []\n",
        "train_counter = []\n",
        "test_losses = []\n",
        "test_correct = []\n",
        "for epoch in trange(max_epochs, leave=True, desc='Epochs'):\n",
        "    train_loss, counter = train_one_epoch(train_loader, model, DEVICE, optimizer, log_interval, epoch)\n",
        "    test_loss, num_correct = test_one_epoch(test_loader, model, DEVICE)\n",
        "\n",
        "    # Record results\n",
        "    train_losses.extend(train_loss)\n",
        "    train_counter.extend(counter)\n",
        "    test_losses.append(test_loss)\n",
        "    test_correct.append(num_correct)\n",
        "\n",
        "print(f\"Test accuracy: {test_correct[-1]/len(test_loader.dataset)}\")"
      ]
    },
    {
      "cell_type": "code",
      "source": [
        "train_loss, train_accuracy = test_one_epoch(train_loader, model, DEVICE)\n",
        "test_loss, test_accuracy = test_one_epoch(test_loader, model, DEVICE)\n",
        "\n",
        "print(f\"Training Data: Loss = {train_loss}, Accuracy = {(train_accuracy/len(train_loader.dataset)) * 100}%\")\n",
        "print(f\"Test Data: Loss = {test_loss}, Accuracy = {(test_accuracy/len(test_loader.dataset)) * 100}%\")"
      ],
      "metadata": {
        "colab": {
          "base_uri": "https://localhost:8080/"
        },
        "id": "avXhajFMa542",
        "outputId": "58b5115e-375e-400d-a032-90dba3dd8416"
      },
      "execution_count": 16,
      "outputs": [
        {
          "output_type": "stream",
          "name": "stderr",
          "text": [
            "<ipython-input-12-ae7edf7a33a7>:34: UserWarning: Implicit dimension choice for log_softmax has been deprecated. Change the call to include dim=X as an argument.\n",
            "  x = torch.nn.functional.log_softmax(x)\n"
          ]
        },
        {
          "output_type": "stream",
          "name": "stdout",
          "text": [
            "Training Data: Loss = 0.000719262181581386, Accuracy = 98.63%\n",
            "Test Data: Loss = 0.0007134093719752855, Accuracy = 98.63%\n"
          ]
        }
      ]
    },
    {
      "cell_type": "code",
      "source": [
        "from torchsummary import summary\n",
        "\n",
        "summary(model, (1, 28, 28))"
      ],
      "metadata": {
        "colab": {
          "base_uri": "https://localhost:8080/"
        },
        "id": "4zVcjZgLcP8Q",
        "outputId": "f2bbad26-c4ca-46e9-8196-e3c2f4402b1a"
      },
      "execution_count": 17,
      "outputs": [
        {
          "output_type": "stream",
          "name": "stdout",
          "text": [
            "----------------------------------------------------------------\n",
            "        Layer (type)               Output Shape         Param #\n",
            "================================================================\n",
            "            Conv2d-1           [-1, 10, 24, 24]             260\n",
            "         MaxPool2d-2           [-1, 10, 12, 12]               0\n",
            "            Conv2d-3             [-1, 20, 8, 8]           5,020\n",
            "         MaxPool2d-4             [-1, 20, 4, 4]               0\n",
            "           Flatten-5                  [-1, 320]               0\n",
            "            Linear-6                   [-1, 10]           3,210\n",
            "================================================================\n",
            "Total params: 8,490\n",
            "Trainable params: 8,490\n",
            "Non-trainable params: 0\n",
            "----------------------------------------------------------------\n",
            "Input size (MB): 0.00\n",
            "Forward/backward pass size (MB): 0.07\n",
            "Params size (MB): 0.03\n",
            "Estimated Total Size (MB): 0.11\n",
            "----------------------------------------------------------------\n"
          ]
        },
        {
          "output_type": "stream",
          "name": "stderr",
          "text": [
            "<ipython-input-12-ae7edf7a33a7>:34: UserWarning: Implicit dimension choice for log_softmax has been deprecated. Change the call to include dim=X as an argument.\n",
            "  x = torch.nn.functional.log_softmax(x)\n"
          ]
        }
      ]
    },
    {
      "cell_type": "code",
      "source": [],
      "metadata": {
        "id": "mGTkvHHqckDD"
      },
      "execution_count": null,
      "outputs": []
    }
  ],
  "metadata": {
    "colab": {
      "provenance": [],
      "gpuType": "V100"
    },
    "kernelspec": {
      "display_name": "Python 3",
      "name": "python3"
    },
    "language_info": {
      "codemirror_mode": {
        "name": "ipython",
        "version": 3
      },
      "file_extension": ".py",
      "mimetype": "text/x-python",
      "name": "python",
      "nbconvert_exporter": "python",
      "pygments_lexer": "ipython3",
      "version": "3.10.4"
    },
    "accelerator": "GPU"
  },
  "nbformat": 4,
  "nbformat_minor": 0
}