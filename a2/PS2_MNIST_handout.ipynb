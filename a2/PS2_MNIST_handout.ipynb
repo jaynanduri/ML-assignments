{
 "cells": [
  {
   "cell_type": "code",
   "execution_count": 1,
   "id": "three-denmark",
   "metadata": {
    "ExecuteTime": {
     "start_time": "2023-10-13T13:58:06.907203Z",
     "end_time": "2023-10-13T13:58:07.855478Z"
    }
   },
   "outputs": [
    {
     "name": "stdout",
     "output_type": "stream",
     "text": [
      "%pylab is deprecated, use %matplotlib inline and import the required libraries.\n",
      "Populating the interactive namespace from numpy and matplotlib\n"
     ]
    },
    {
     "name": "stderr",
     "output_type": "stream",
     "text": [
      "/Users/jay/opt/anaconda3/envs/ml_a1/lib/python3.10/site-packages/IPython/core/magics/pylab.py:162: UserWarning: pylab import has clobbered these variables: ['random']\n",
      "`%matplotlib` prevents importing * from pylab and numpy\n",
      "  warn(\"pylab import has clobbered these variables: %s\"  % clobbered +\n"
     ]
    }
   ],
   "source": [
    "import random\n",
    "\n",
    "import numpy as np\n",
    "import requests, gzip, os, hashlib\n",
    "%pylab inline\n",
    "\n",
    "#fetch data\n",
    "path = '.'\n",
    "\n",
    "def fetch(url):\n",
    "    fp = os.path.join(path, hashlib.md5(url.encode('utf-8')).hexdigest())\n",
    "    if os.path.isfile(fp):\n",
    "        with open(fp, \"rb\") as f:\n",
    "            data = f.read()\n",
    "    else:\n",
    "        with open(fp, \"wb\") as f:\n",
    "            data = requests.get(url).content\n",
    "            f.write(data)\n",
    "    return np.frombuffer(gzip.decompress(data), dtype=np.uint8).copy()\n",
    "\n",
    "X = fetch(\"http://yann.lecun.com/exdb/mnist/train-images-idx3-ubyte.gz\")[0x10:].reshape((-1, 28*28))\n",
    "Y = fetch(\"http://yann.lecun.com/exdb/mnist/train-labels-idx1-ubyte.gz\")[8:]\n",
    "X_test = fetch(\"http://yann.lecun.com/exdb/mnist/t10k-images-idx3-ubyte.gz\")[0x10:].reshape((-1, 28*28))\n",
    "Y_test = fetch(\"http://yann.lecun.com/exdb/mnist/t10k-labels-idx1-ubyte.gz\")[8:]"
   ]
  },
  {
   "cell_type": "markdown",
   "source": [
    "# part (a) - Applying PCA with 20 components"
   ],
   "metadata": {
    "collapsed": false
   }
  },
  {
   "cell_type": "code",
   "execution_count": 2,
   "outputs": [
    {
     "data": {
      "text/plain": "<matplotlib.image.AxesImage at 0x7f94ccd70fd0>"
     },
     "execution_count": 2,
     "metadata": {},
     "output_type": "execute_result"
    },
    {
     "data": {
      "text/plain": "<Figure size 640x480 with 1 Axes>",
      "image/png": "[encoded data removed]"
     },
     "metadata": {},
     "output_type": "display_data"
    }
   ],
   "source": [
    "import matplotlib.pyplot as plt\n",
    "plt.imshow(X[0].reshape((28, 28)),cmap=\"grey\")"
   ],
   "metadata": {
    "collapsed": false,
    "ExecuteTime": {
     "start_time": "2023-10-13T13:58:07.864271Z",
     "end_time": "2023-10-13T13:58:08.026372Z"
    }
   }
  },
  {
   "cell_type": "code",
   "execution_count": 3,
   "outputs": [
    {
     "data": {
      "text/plain": "array([ 4.10218907e-19,  5.55111512e-17,  2.22044605e-16, -1.11022302e-16,\n        0.00000000e+00,  0.00000000e+00,  0.00000000e+00, -1.73472348e-18,\n        0.00000000e+00, -1.08420217e-19,  2.71050543e-20,  0.00000000e+00,\n        0.00000000e+00,  0.00000000e+00,  0.00000000e+00,  0.00000000e+00,\n        0.00000000e+00,  0.00000000e+00,  0.00000000e+00,  0.00000000e+00,\n        0.00000000e+00,  0.00000000e+00,  0.00000000e+00,  0.00000000e+00,\n        0.00000000e+00,  0.00000000e+00,  0.00000000e+00,  0.00000000e+00,\n        0.00000000e+00,  0.00000000e+00,  0.00000000e+00,  0.00000000e+00,\n        0.00000000e+00,  1.82985249e-06,  1.13643471e-05,  7.60833404e-06,\n        8.31074797e-06, -6.40434389e-06, -8.45283404e-05, -7.60407823e-05,\n       -3.78164862e-05, -1.50150202e-04, -2.45270096e-04, -1.86653782e-04,\n       -3.17351967e-05, -9.66288831e-06, -4.96970486e-05, -9.66563434e-05,\n       -3.62936409e-05,  0.00000000e+00,  0.00000000e+00,  0.00000000e+00,\n        0.00000000e+00,  0.00000000e+00,  0.00000000e+00,  0.00000000e+00,\n        0.00000000e+00,  0.00000000e+00,  0.00000000e+00,  0.00000000e+00,\n        0.00000000e+00,  2.49866496e-05,  5.92086008e-05,  1.55680976e-05,\n       -1.87662356e-04, -4.73682631e-04, -8.96042698e-04, -1.69552422e-03,\n       -2.23426679e-03, -3.30307334e-03, -4.37733558e-03, -4.38371493e-03,\n       -3.78287778e-03, -3.01308199e-03, -2.25037286e-03, -1.63434913e-03,\n       -1.15536649e-03, -5.28414741e-04, -2.86781272e-04, -1.23834210e-04,\n       -7.09584230e-07,  0.00000000e+00,  0.00000000e+00,  0.00000000e+00,\n        0.00000000e+00,  0.00000000e+00,  0.00000000e+00,  0.00000000e+00,\n       -1.72429706e-05,  2.94745660e-05,  5.33399270e-05, -6.15255213e-05,\n       -5.23995045e-04, -1.38161255e-03, -2.93899149e-03, -4.73901793e-03,\n       -7.39132372e-03, -1.07818399e-02, -1.32939283e-02, -1.46704701e-02,\n       -1.35972357e-02, -1.08109444e-02, -8.25530488e-03, -5.35771920e-03,\n       -3.16399715e-03, -1.44514835e-03, -9.34974314e-04, -3.64216508e-04,\n       -1.03431357e-04,  2.98937212e-06,  4.38509126e-06,  0.00000000e+00,\n        0.00000000e+00,  0.00000000e+00,  0.00000000e+00, -2.19148073e-05,\n       -6.43830768e-05, -2.28948864e-05, -1.49416829e-04, -6.16728602e-04,\n       -1.99612234e-03, -5.21004332e-03, -1.01300990e-02, -1.66282334e-02,\n       -2.35660846e-02, -3.04726805e-02, -3.52138032e-02, -3.97120808e-02,\n       -3.86385116e-02, -3.18627489e-02, -2.39171438e-02, -1.69830128e-02,\n       -9.66459132e-03, -5.20840415e-03, -2.64570043e-03, -1.17572467e-03,\n       -3.74522745e-04,  8.46346819e-06,  2.75479070e-05,  0.00000000e+00,\n        0.00000000e+00, -4.49148370e-08, -4.55860078e-08, -5.53747782e-06,\n       -1.15066790e-04, -4.51082754e-04, -1.21550937e-03, -2.73945509e-03,\n       -5.71238834e-03, -1.27408841e-02, -2.33363613e-02, -3.63451189e-02,\n       -4.94071584e-02, -5.72431322e-02, -5.88989904e-02, -5.89133462e-02,\n       -5.90772083e-02, -5.62823613e-02, -4.93099719e-02, -3.79417014e-02,\n       -2.54058698e-02, -1.46179160e-02, -7.65075837e-03, -3.34368670e-03,\n       -1.34964376e-03, -1.18758876e-04, -2.17380392e-05,  0.00000000e+00,\n        0.00000000e+00,  0.00000000e+00,  2.10866829e-06,  1.11795677e-05,\n       -1.62700436e-04, -8.26382047e-04, -2.14787892e-03, -5.15138206e-03,\n       -1.10360349e-02, -2.35172469e-02, -4.01324417e-02, -5.84292544e-02,\n       -7.00531129e-02, -6.94738676e-02, -6.07529984e-02, -5.35521750e-02,\n       -5.19651847e-02, -5.62961350e-02, -6.06544260e-02, -5.58185287e-02,\n       -4.35856019e-02, -2.78603206e-02, -1.43329047e-02, -5.45902800e-03,\n       -2.17707505e-03, -3.58287497e-04, -6.76584293e-05,  2.16870915e-05,\n        0.00000000e+00, -2.42948934e-07,  2.91117125e-05,  4.34937962e-05,\n       -1.08291511e-04, -8.81378552e-04, -2.50642593e-03, -6.72694274e-03,\n       -1.62066158e-02, -3.37185918e-02, -5.19270778e-02, -6.79270797e-02,\n       -6.93492208e-02, -5.62680113e-02, -3.68170205e-02, -2.17915279e-02,\n       -2.02045626e-02, -3.01435760e-02, -4.75063683e-02, -5.84849653e-02,\n       -5.48471687e-02, -4.08652304e-02, -2.23837798e-02, -7.88603051e-03,\n       -2.02724796e-03, -2.09344154e-04,  3.41614864e-05,  2.02527463e-05,\n        0.00000000e+00,  7.11150683e-06,  8.57225964e-05,  1.35607559e-04,\n       -2.34776380e-04, -5.39228870e-04, -2.17725414e-03, -9.84703776e-03,\n       -2.39881956e-02, -4.17492471e-02, -5.80238226e-02, -6.54020854e-02,\n       -5.85464565e-02, -3.58558269e-02, -6.67430733e-03,  1.40469715e-02,\n        1.67522550e-02,  1.26692194e-03, -2.69033386e-02, -5.31095157e-02,\n       -6.12081360e-02, -5.04811000e-02, -3.05730369e-02, -1.15776927e-02,\n       -1.65979795e-03,  4.85179428e-04,  3.61515897e-04,  3.45276268e-05,\n        8.79548398e-06,  8.95793302e-05,  2.35236145e-04,  3.87544132e-04,\n        2.27535555e-04, -3.86620171e-04, -4.29307631e-03, -1.58001046e-02,\n       -3.32692339e-02, -5.25557863e-02, -6.49945336e-02, -6.33583222e-02,\n       -4.80712199e-02, -1.79727916e-02,  1.82800484e-02,  4.16291191e-02,\n        4.35524797e-02,  2.48544464e-02, -1.06836089e-02, -4.68946684e-02,\n       -6.55749276e-02, -6.05553860e-02, -4.01980817e-02, -1.73949834e-02,\n       -3.33485182e-03,  6.93555283e-04,  3.12388467e-04,  3.61125703e-05,\n        1.79753105e-05,  9.47508794e-05,  2.07835538e-04,  2.93111963e-04,\n       -8.73540772e-05, -2.38175594e-03, -1.05567287e-02, -2.65245474e-02,\n       -4.80539475e-02, -6.67403701e-02, -7.12780909e-02, -6.13204406e-02,\n       -4.06245383e-02, -5.99297203e-03,  3.21945724e-02,  5.43621813e-02,\n        5.39782293e-02,  3.46837287e-02, -2.83271443e-03, -4.56415038e-02,\n       -7.03960101e-02, -6.74888387e-02, -4.90181175e-02, -2.43685322e-02,\n       -6.80919177e-03, -4.28529839e-05,  1.96477870e-04,  5.22502911e-05,\n        1.64754316e-06,  6.35904066e-05,  9.10361661e-05,  8.53685264e-05,\n       -6.86245216e-04, -5.98171128e-03, -1.95198702e-02, -4.07812954e-02,\n       -6.48964261e-02, -7.82822531e-02, -7.44495132e-02, -5.87475439e-02,\n       -3.49174083e-02,  3.42068150e-03,  4.29892172e-02,  6.12001401e-02,\n        5.41840939e-02,  3.21738079e-02, -6.22302615e-03, -5.09160233e-02,\n       -7.65020609e-02, -7.37075463e-02, -5.54566405e-02, -3.02600435e-02,\n       -9.90357361e-03, -2.18807232e-04,  1.77583434e-04,  2.82879096e-05,\n        0.00000000e+00,  4.14349297e-05,  5.25723306e-05, -1.31757342e-04,\n       -1.62091680e-03, -1.03311973e-02, -2.89786807e-02, -5.44074853e-02,\n       -7.65933444e-02, -8.28688755e-02, -7.28442256e-02, -5.20961694e-02,\n       -2.61101658e-02,  1.63245364e-02,  5.37092853e-02,  6.30858056e-02,\n        4.75704371e-02,  1.73400802e-02, -2.22704173e-02, -6.24619796e-02,\n       -8.31130915e-02, -7.76958249e-02, -5.97072401e-02, -3.43991857e-02,\n       -1.21117449e-02, -5.94767397e-04,  1.71215387e-05,  0.00000000e+00,\n        0.00000000e+00,  4.47700256e-06,  3.18067782e-05, -1.28878115e-04,\n       -2.67870278e-03, -1.61702633e-02, -3.92877455e-02, -6.59018197e-02,\n       -8.34013039e-02, -8.01632698e-02, -6.28679411e-02, -3.83203489e-02,\n       -1.20201620e-02,  3.24686902e-02,  6.05012540e-02,  6.23365918e-02,\n        3.60462035e-02, -3.92463952e-04, -4.01147068e-02, -7.56652674e-02,\n       -8.95449469e-02, -8.16857120e-02, -6.23699370e-02, -3.67654989e-02,\n       -1.33874442e-02, -8.56426003e-04, -9.54600043e-06,  0.00000000e+00,\n        0.00000000e+00,  0.00000000e+00, -3.39586297e-06, -1.84659556e-04,\n       -4.06715856e-03, -2.21299191e-02, -4.79251920e-02, -7.44798839e-02,\n       -8.61095714e-02, -7.52533548e-02, -4.87604123e-02, -2.24347791e-02,\n        6.24727929e-03,  4.86039493e-02,  6.70779515e-02,  6.22591315e-02,\n        2.54578512e-02, -1.14157763e-02, -5.03226662e-02, -8.34017200e-02,\n       -9.36588545e-02, -8.49734592e-02, -6.28653118e-02, -3.74062500e-02,\n       -1.33943128e-02, -9.98490983e-04,  2.79830440e-05,  0.00000000e+00,\n        0.00000000e+00,  0.00000000e+00, -4.67641886e-05, -3.61446073e-04,\n       -6.28869256e-03, -2.87934107e-02, -5.58262236e-02, -8.11559504e-02,\n       -9.00905963e-02, -7.18113967e-02, -4.19569677e-02, -1.25575111e-02,\n        1.94406028e-02,  5.54422950e-02,  7.05112635e-02,  6.03212284e-02,\n        2.20565740e-02, -1.48004831e-02, -5.61665512e-02, -8.89281556e-02,\n       -9.78031565e-02, -8.71214460e-02, -6.15680339e-02, -3.47742467e-02,\n       -1.17339006e-02, -9.70155881e-04,  6.53244427e-05,  7.16518671e-07,\n        0.00000000e+00, -1.21504631e-05, -8.66836279e-05, -6.98462516e-04,\n       -8.79608954e-03, -3.42701258e-02, -6.19178442e-02, -8.73616503e-02,\n       -9.44406685e-02, -7.27571740e-02, -4.17079444e-02, -9.24207475e-03,\n        2.32559865e-02,  5.50433250e-02,  6.87588200e-02,  5.49552790e-02,\n        2.10942331e-02, -1.92611158e-02, -6.56426014e-02, -9.69841015e-02,\n       -1.03923690e-01, -8.65438298e-02, -5.74303956e-02, -2.86872200e-02,\n       -8.67854772e-03, -5.81661414e-04,  8.49302631e-05,  1.77196462e-05,\n        0.00000000e+00,  0.00000000e+00, -8.21898279e-05, -9.97684779e-04,\n       -1.13236216e-02, -3.85740049e-02, -6.58530835e-02, -8.98511901e-02,\n       -9.54784845e-02, -7.50924656e-02, -4.29527578e-02, -8.87046860e-03,\n        2.25011561e-02,  5.16049256e-02,  6.23136644e-02,  4.49919063e-02,\n        9.23392132e-03, -3.93402413e-02, -8.52169693e-02, -1.09845433e-01,\n       -1.06791196e-01, -8.11378274e-02, -4.88616636e-02, -2.16741916e-02,\n       -5.73086009e-03, -4.19581804e-04,  2.86757045e-05,  2.32056140e-05,\n        0.00000000e+00,  9.91684201e-06, -1.34809205e-04, -1.71327639e-03,\n       -1.37442948e-02, -4.01450790e-02, -6.60299982e-02, -8.87228704e-02,\n       -9.39676226e-02, -7.65948575e-02, -4.53522052e-02, -9.48787118e-03,\n        2.09215008e-02,  4.48176707e-02,  4.75349948e-02,  2.18901561e-02,\n       -2.09745377e-02, -6.92026272e-02, -1.05068087e-01, -1.16887319e-01,\n       -1.00760660e-01, -6.78708596e-02, -3.67287410e-02, -1.38662459e-02,\n       -3.15374539e-03, -2.87644896e-04,  5.28736417e-05,  1.27668789e-06,\n        0.00000000e+00,  2.00697993e-05, -1.13174250e-04, -2.43525664e-03,\n       -1.38455715e-02, -3.84919891e-02, -6.42234286e-02, -8.62983340e-02,\n       -9.48669120e-02, -8.26910525e-02, -5.35782616e-02, -2.04458564e-02,\n        6.89990658e-03,  2.32408828e-02,  1.83892864e-02, -1.26264184e-02,\n       -5.52144445e-02, -9.41454770e-02, -1.14423425e-01, -1.08875627e-01,\n       -8.14830027e-02, -4.88593997e-02, -2.31061262e-02, -7.51668226e-03,\n       -1.59124107e-03, -2.58161126e-04,  3.28194370e-05,  2.52809483e-07,\n        0.00000000e+00,  2.83338343e-06, -1.57865438e-04, -2.41324718e-03,\n       -1.15769726e-02, -3.27504856e-02, -5.74909841e-02, -8.10221474e-02,\n       -9.36600163e-02, -8.95699326e-02, -6.96387569e-02, -4.36509438e-02,\n       -2.19779327e-02, -9.74917301e-03, -1.68128870e-02, -4.31631410e-02,\n       -7.76006282e-02, -1.00466259e-01, -1.02848041e-01, -8.26732818e-02,\n       -5.37593496e-02, -2.84435948e-02, -1.14960585e-02, -3.29051098e-03,\n       -3.94260398e-04, -7.18485052e-05,  3.27807001e-05,  0.00000000e+00,\n        0.00000000e+00,  0.00000000e+00, -1.31946616e-04, -2.12184367e-03,\n       -8.14733332e-03, -2.27674003e-02, -4.49966020e-02, -6.71320442e-02,\n       -8.32695994e-02, -8.67957783e-02, -7.76239839e-02, -6.16095955e-02,\n       -4.72351080e-02, -3.73585423e-02, -4.00618049e-02, -5.62544056e-02,\n       -7.41700622e-02, -8.04640090e-02, -6.84072738e-02, -4.79547242e-02,\n       -2.82899742e-02, -1.30426096e-02, -4.32109682e-03, -1.28917976e-03,\n       -7.72485603e-05, -5.05326418e-05, -4.93792078e-05,  0.00000000e+00,\n        0.00000000e+00,  0.00000000e+00, -6.21796013e-05, -1.28110722e-03,\n       -4.26634414e-03, -1.18258381e-02, -2.56525491e-02, -4.35149001e-02,\n       -5.78990999e-02, -6.47633600e-02, -6.09789675e-02, -5.15982131e-02,\n       -4.12784321e-02, -3.19997251e-02, -3.00494848e-02, -3.66005257e-02,\n       -4.38618093e-02, -4.28608976e-02, -3.36418573e-02, -2.21398221e-02,\n       -1.10578789e-02, -4.69316806e-03, -1.45380636e-03, -5.97501630e-04,\n       -9.51979031e-05, -6.16763923e-05, -2.43666655e-05,  0.00000000e+00,\n        0.00000000e+00, -4.49148370e-08, -8.82545537e-06, -4.34163767e-04,\n       -1.28097265e-03, -3.46417022e-03, -7.84159999e-03, -1.46446323e-02,\n       -2.31563990e-02, -2.79632837e-02, -2.67373988e-02, -2.37377315e-02,\n       -1.64216509e-02, -9.93327101e-03, -4.70740056e-03, -6.26865008e-03,\n       -1.06685948e-02, -1.30979993e-02, -1.06374756e-02, -6.14242481e-03,\n       -2.88862655e-03, -1.53386845e-03, -4.49502134e-04, -1.49084025e-04,\n        5.49075297e-06,  1.94923952e-05, -1.52673769e-07,  0.00000000e+00,\n        0.00000000e+00,  0.00000000e+00,  0.00000000e+00, -9.71058992e-05,\n       -1.61193846e-04, -2.96103119e-04, -2.20670255e-04, -1.31792628e-04,\n        1.03535598e-03,  3.74343878e-03,  6.35350876e-03,  8.69426715e-03,\n        1.32030687e-02,  1.65407920e-02,  1.58158118e-02,  1.06337747e-02,\n        5.34099805e-03,  1.03687608e-03, -4.91713680e-04, -7.01502544e-04,\n       -7.47863110e-04, -4.17578802e-04, -5.26053194e-05, -9.23639816e-05,\n       -1.10837990e-05,  4.83119498e-07,  0.00000000e+00,  0.00000000e+00,\n        0.00000000e+00,  0.00000000e+00,  0.00000000e+00,  1.34668806e-06,\n        4.51358516e-05,  1.46124491e-04,  4.87842231e-04,  1.56019622e-03,\n        3.68566106e-03,  6.40516928e-03,  9.00224892e-03,  1.20171745e-02,\n        1.41311393e-02,  1.50292405e-02,  1.35257932e-02,  9.68840140e-03,\n        5.81084898e-03,  2.74033211e-03,  1.01183228e-03,  1.62671222e-04,\n       -6.29406089e-05, -2.69233129e-05, -2.88701938e-05, -2.40666749e-05,\n       -8.44667129e-06,  3.50513519e-06,  0.00000000e+00,  0.00000000e+00,\n        0.00000000e+00,  0.00000000e+00,  0.00000000e+00,  0.00000000e+00,\n       -1.34289578e-06,  2.78591769e-05,  1.97185293e-04,  6.39325543e-04,\n        1.42214880e-03,  2.57882223e-03,  3.42338720e-03,  5.05482215e-03,\n        6.11628532e-03,  6.05426831e-03,  5.17338669e-03,  3.51435988e-03,\n        2.11271482e-03,  1.23684720e-03,  5.20279784e-04,  2.75828751e-04,\n        7.59710588e-05, -1.60277683e-05, -4.14593119e-05,  8.10334205e-06,\n       -2.52422078e-07,  0.00000000e+00,  0.00000000e+00,  0.00000000e+00,\n        0.00000000e+00,  0.00000000e+00,  0.00000000e+00,  0.00000000e+00,\n        0.00000000e+00,  0.00000000e+00,  1.27175478e-06,  2.91251393e-05,\n        7.78325657e-05,  1.52845505e-04,  1.42439489e-04,  1.73453742e-04,\n        2.97824785e-04,  3.65788974e-04,  3.74455166e-04,  2.86370672e-04,\n        1.56900958e-04,  9.19284232e-05,  7.71119366e-05,  9.04400813e-05,\n        3.71697467e-05, -4.62880916e-07,  0.00000000e+00,  0.00000000e+00,\n        0.00000000e+00,  0.00000000e+00,  0.00000000e+00,  0.00000000e+00])"
     },
     "execution_count": 3,
     "metadata": {},
     "output_type": "execute_result"
    }
   ],
   "source": [
    "# Example on how to perform Dimensionality using SVD\n",
    "X_centered = X_test - X_test.mean(axis=0)\n",
    "U, s, vt = np.linalg.svd(X_centered)\n",
    "c1 = vt.T[:, 0]\n",
    "c2 = vt.T[:, 1]\n",
    "c1"
   ],
   "metadata": {
    "collapsed": false,
    "ExecuteTime": {
     "start_time": "2023-10-13T13:58:09.601850Z",
     "end_time": "2023-10-13T13:58:28.685626Z"
    }
   }
  },
  {
   "cell_type": "code",
   "execution_count": 4,
   "outputs": [
    {
     "data": {
      "text/plain": "(10000, 20)"
     },
     "execution_count": 4,
     "metadata": {},
     "output_type": "execute_result"
    }
   ],
   "source": [
    "w2 = vt.T[:, :20]\n",
    "X_reduced = X_centered.dot(w2)\n",
    "X_reduced.shape"
   ],
   "metadata": {
    "collapsed": false,
    "ExecuteTime": {
     "start_time": "2023-10-13T13:58:28.689038Z",
     "end_time": "2023-10-13T13:58:28.727666Z"
    }
   }
  },
  {
   "cell_type": "code",
   "execution_count": 5,
   "outputs": [],
   "source": [
    "# using Scikit-learn builtin PCA\n",
    "from sklearn.preprocessing import StandardScaler\n",
    "sc = StandardScaler()\n",
    "X_centered = sc.fit_transform(X) # need to scale data, otherwise variables with large values tend to affect the overall variance.\n",
    "from sklearn.decomposition import PCA\n",
    "pca_model = PCA(n_components = 20)\n",
    "X_transformed = pca_model.fit_transform(X_centered)"
   ],
   "metadata": {
    "collapsed": false,
    "ExecuteTime": {
     "start_time": "2023-10-13T13:58:28.715029Z",
     "end_time": "2023-10-13T13:58:32.509913Z"
    }
   }
  },
  {
   "cell_type": "code",
   "execution_count": 6,
   "outputs": [
    {
     "name": "stdout",
     "output_type": "stream",
     "text": [
      "[40.48763511 29.24169752 26.81180449 20.68661822 18.07665011 15.73317783\n",
      " 13.7906088  12.5175881  11.00678823 10.05047933  9.62043     8.63093273\n",
      "  7.99123901  7.81362612  7.3742788   7.12996061  6.71222387  6.5961496\n",
      "  6.4027204   6.23021527]\n"
     ]
    }
   ],
   "source": [
    "# 20 components after projecting 784 pixels onto 20.\n",
    "print(pca_model.explained_variance_)"
   ],
   "metadata": {
    "collapsed": false,
    "ExecuteTime": {
     "start_time": "2023-10-13T13:58:40.846431Z",
     "end_time": "2023-10-13T13:58:40.854659Z"
    }
   }
  },
  {
   "cell_type": "code",
   "execution_count": 7,
   "outputs": [
    {
     "name": "stdout",
     "output_type": "stream",
     "text": [
      "[0.05646717 0.04078272 0.0373938  0.02885115 0.02521109 0.0219427\n",
      " 0.01923344 0.01745799 0.01535091 0.01401717 0.01341739 0.01203736\n",
      " 0.0111452  0.01089748 0.01028474 0.00994399 0.00936138 0.0091995\n",
      " 0.00892973 0.00868914]\n"
     ]
    }
   ],
   "source": [
    "# printing explained ratios of PCA - indicates the proportion of variance that lies along each principal component\n",
    "print(pca_model.explained_variance_ratio_)"
   ],
   "metadata": {
    "collapsed": false,
    "ExecuteTime": {
     "start_time": "2023-10-13T13:59:34.552443Z",
     "end_time": "2023-10-13T13:59:34.584985Z"
    }
   }
  },
  {
   "cell_type": "markdown",
   "source": [
    "# part(b) - Fitting Logistic Regression Model on the transformed data with 20 dimensions instead of 784"
   ],
   "metadata": {
    "collapsed": false
   }
  },
  {
   "cell_type": "code",
   "execution_count": 25,
   "outputs": [
    {
     "name": "stderr",
     "output_type": "stream",
     "text": [
      "/Users/jay/opt/anaconda3/envs/ml_a1/lib/python3.10/site-packages/sklearn/linear_model/_logistic.py:460: ConvergenceWarning: lbfgs failed to converge (status=1):\n",
      "STOP: TOTAL NO. of ITERATIONS REACHED LIMIT.\n",
      "\n",
      "Increase the number of iterations (max_iter) or scale the data as shown in:\n",
      "    https://scikit-learn.org/stable/modules/preprocessing.html\n",
      "Please also refer to the documentation for alternative solver options:\n",
      "    https://scikit-learn.org/stable/modules/linear_model.html#logistic-regression\n",
      "  n_iter_i = _check_optimize_result(\n"
     ]
    },
    {
     "data": {
      "text/plain": "LogisticRegression()",
      "text/html": "<style>#sk-container-id-1 {color: black;}#sk-container-id-1 pre{padding: 0;}#sk-container-id-1 div.sk-toggleable {background-color: white;}#sk-container-id-1 label.sk-toggleable__label {cursor: pointer;display: block;width: 100%;margin-bottom: 0;padding: 0.3em;box-sizing: border-box;text-align: center;}#sk-container-id-1 label.sk-toggleable__label-arrow:before {content: \"▸\";float: left;margin-right: 0.25em;color: #696969;}#sk-container-id-1 label.sk-toggleable__label-arrow:hover:before {color: black;}#sk-container-id-1 div.sk-estimator:hover label.sk-toggleable__label-arrow:before {color: black;}#sk-container-id-1 div.sk-toggleable__content {max-height: 0;max-width: 0;overflow: hidden;text-align: left;background-color: #f0f8ff;}#sk-container-id-1 div.sk-toggleable__content pre {margin: 0.2em;color: black;border-radius: 0.25em;background-color: #f0f8ff;}#sk-container-id-1 input.sk-toggleable__control:checked~div.sk-toggleable__content {max-height: 200px;max-width: 100%;overflow: auto;}#sk-container-id-1 input.sk-toggleable__control:checked~label.sk-toggleable__label-arrow:before {content: \"▾\";}#sk-container-id-1 div.sk-estimator input.sk-toggleable__control:checked~label.sk-toggleable__label {background-color: #d4ebff;}#sk-container-id-1 div.sk-label input.sk-toggleable__control:checked~label.sk-toggleable__label {background-color: #d4ebff;}#sk-container-id-1 input.sk-hidden--visually {border: 0;clip: rect(1px 1px 1px 1px);clip: rect(1px, 1px, 1px, 1px);height: 1px;margin: -1px;overflow: hidden;padding: 0;position: absolute;width: 1px;}#sk-container-id-1 div.sk-estimator {font-family: monospace;background-color: #f0f8ff;border: 1px dotted black;border-radius: 0.25em;box-sizing: border-box;margin-bottom: 0.5em;}#sk-container-id-1 div.sk-estimator:hover {background-color: #d4ebff;}#sk-container-id-1 div.sk-parallel-item::after {content: \"\";width: 100%;border-bottom: 1px solid gray;flex-grow: 1;}#sk-container-id-1 div.sk-label:hover label.sk-toggleable__label {background-color: #d4ebff;}#sk-container-id-1 div.sk-serial::before {content: \"\";position: absolute;border-left: 1px solid gray;box-sizing: border-box;top: 0;bottom: 0;left: 50%;z-index: 0;}#sk-container-id-1 div.sk-serial {display: flex;flex-direction: column;align-items: center;background-color: white;padding-right: 0.2em;padding-left: 0.2em;position: relative;}#sk-container-id-1 div.sk-item {position: relative;z-index: 1;}#sk-container-id-1 div.sk-parallel {display: flex;align-items: stretch;justify-content: center;background-color: white;position: relative;}#sk-container-id-1 div.sk-item::before, #sk-container-id-1 div.sk-parallel-item::before {content: \"\";position: absolute;border-left: 1px solid gray;box-sizing: border-box;top: 0;bottom: 0;left: 50%;z-index: -1;}#sk-container-id-1 div.sk-parallel-item {display: flex;flex-direction: column;z-index: 1;position: relative;background-color: white;}#sk-container-id-1 div.sk-parallel-item:first-child::after {align-self: flex-end;width: 50%;}#sk-container-id-1 div.sk-parallel-item:last-child::after {align-self: flex-start;width: 50%;}#sk-container-id-1 div.sk-parallel-item:only-child::after {width: 0;}#sk-container-id-1 div.sk-dashed-wrapped {border: 1px dashed gray;margin: 0 0.4em 0.5em 0.4em;box-sizing: border-box;padding-bottom: 0.4em;background-color: white;}#sk-container-id-1 div.sk-label label {font-family: monospace;font-weight: bold;display: inline-block;line-height: 1.2em;}#sk-container-id-1 div.sk-label-container {text-align: center;}#sk-container-id-1 div.sk-container {/* jupyter's `normalize.less` sets `[hidden] { display: none; }` but bootstrap.min.css set `[hidden] { display: none !important; }` so we also need the `!important` here to be able to override the default hidden behavior on the sphinx rendered scikit-learn.org. See: https://github.com/scikit-learn/scikit-learn/issues/21755 */display: inline-block !important;position: relative;}#sk-container-id-1 div.sk-text-repr-fallback {display: none;}</style><div id=\"sk-container-id-1\" class=\"sk-top-container\"><div class=\"sk-text-repr-fallback\"><pre>LogisticRegression()</pre><b>In a Jupyter environment, please rerun this cell to show the HTML representation or trust the notebook. <br />On GitHub, the HTML representation is unable to render, please try loading this page with nbviewer.org.</b></div><div class=\"sk-container\" hidden><div class=\"sk-item\"><div class=\"sk-estimator sk-toggleable\"><input class=\"sk-toggleable__control sk-hidden--visually\" id=\"sk-estimator-id-1\" type=\"checkbox\" checked><label for=\"sk-estimator-id-1\" class=\"sk-toggleable__label sk-toggleable__label-arrow\">LogisticRegression</label><div class=\"sk-toggleable__content\"><pre>LogisticRegression()</pre></div></div></div></div></div>"
     },
     "execution_count": 25,
     "metadata": {},
     "output_type": "execute_result"
    }
   ],
   "source": [
    "# performance measures\n",
    "from sklearn.linear_model import LogisticRegression\n",
    "log_model = LogisticRegression()\n",
    "log_model.fit(X_transformed, Y)"
   ],
   "metadata": {
    "collapsed": false,
    "ExecuteTime": {
     "start_time": "2023-10-09T13:35:41.890835Z",
     "end_time": "2023-10-09T13:35:44.363440Z"
    }
   }
  },
  {
   "cell_type": "code",
   "execution_count": 29,
   "outputs": [
    {
     "name": "stdout",
     "output_type": "stream",
     "text": [
      "Training accuracy of model is 0.8669333333333333\n"
     ]
    },
    {
     "name": "stderr",
     "output_type": "stream",
     "text": [
      "/Users/jay/opt/anaconda3/envs/ml_a1/lib/python3.10/site-packages/sklearn/linear_model/_logistic.py:460: ConvergenceWarning: lbfgs failed to converge (status=1):\n",
      "STOP: TOTAL NO. of ITERATIONS REACHED LIMIT.\n",
      "\n",
      "Increase the number of iterations (max_iter) or scale the data as shown in:\n",
      "    https://scikit-learn.org/stable/modules/preprocessing.html\n",
      "Please also refer to the documentation for alternative solver options:\n",
      "    https://scikit-learn.org/stable/modules/linear_model.html#logistic-regression\n",
      "  n_iter_i = _check_optimize_result(\n",
      "/Users/jay/opt/anaconda3/envs/ml_a1/lib/python3.10/site-packages/sklearn/linear_model/_logistic.py:460: ConvergenceWarning: lbfgs failed to converge (status=1):\n",
      "STOP: TOTAL NO. of ITERATIONS REACHED LIMIT.\n",
      "\n",
      "Increase the number of iterations (max_iter) or scale the data as shown in:\n",
      "    https://scikit-learn.org/stable/modules/preprocessing.html\n",
      "Please also refer to the documentation for alternative solver options:\n",
      "    https://scikit-learn.org/stable/modules/linear_model.html#logistic-regression\n",
      "  n_iter_i = _check_optimize_result(\n",
      "/Users/jay/opt/anaconda3/envs/ml_a1/lib/python3.10/site-packages/sklearn/linear_model/_logistic.py:460: ConvergenceWarning: lbfgs failed to converge (status=1):\n",
      "STOP: TOTAL NO. of ITERATIONS REACHED LIMIT.\n",
      "\n",
      "Increase the number of iterations (max_iter) or scale the data as shown in:\n",
      "    https://scikit-learn.org/stable/modules/preprocessing.html\n",
      "Please also refer to the documentation for alternative solver options:\n",
      "    https://scikit-learn.org/stable/modules/linear_model.html#logistic-regression\n",
      "  n_iter_i = _check_optimize_result(\n",
      "/Users/jay/opt/anaconda3/envs/ml_a1/lib/python3.10/site-packages/sklearn/linear_model/_logistic.py:460: ConvergenceWarning: lbfgs failed to converge (status=1):\n",
      "STOP: TOTAL NO. of ITERATIONS REACHED LIMIT.\n",
      "\n",
      "Increase the number of iterations (max_iter) or scale the data as shown in:\n",
      "    https://scikit-learn.org/stable/modules/preprocessing.html\n",
      "Please also refer to the documentation for alternative solver options:\n",
      "    https://scikit-learn.org/stable/modules/linear_model.html#logistic-regression\n",
      "  n_iter_i = _check_optimize_result(\n"
     ]
    },
    {
     "name": "stdout",
     "output_type": "stream",
     "text": [
      "Validation accuracy of the model across five folds is [0.87, 0.86, 0.86, 0.86, 0.87]\n"
     ]
    },
    {
     "name": "stderr",
     "output_type": "stream",
     "text": [
      "/Users/jay/opt/anaconda3/envs/ml_a1/lib/python3.10/site-packages/sklearn/linear_model/_logistic.py:460: ConvergenceWarning: lbfgs failed to converge (status=1):\n",
      "STOP: TOTAL NO. of ITERATIONS REACHED LIMIT.\n",
      "\n",
      "Increase the number of iterations (max_iter) or scale the data as shown in:\n",
      "    https://scikit-learn.org/stable/modules/preprocessing.html\n",
      "Please also refer to the documentation for alternative solver options:\n",
      "    https://scikit-learn.org/stable/modules/linear_model.html#logistic-regression\n",
      "  n_iter_i = _check_optimize_result(\n"
     ]
    }
   ],
   "source": [
    "from sklearn.metrics import accuracy_score\n",
    "from sklearn.model_selection import cross_val_score\n",
    "# training accuracy\n",
    "y_train_pred = log_model.predict(X_transformed)\n",
    "print(f\"Training accuracy of model is {accuracy_score(y_true=Y, y_pred=y_train_pred)}\")\n",
    "val_accuracy = cross_val_score(log_model,X_transformed, Y, cv=5, scoring=\"accuracy\")\n",
    "print(f\"Validation accuracy of the model across five folds is {[round(i, 2) for i in val_accuracy]}\")"
   ],
   "metadata": {
    "collapsed": false,
    "ExecuteTime": {
     "start_time": "2023-10-09T13:40:54.486114Z",
     "end_time": "2023-10-09T13:41:02.307083Z"
    }
   }
  },
  {
   "cell_type": "code",
   "execution_count": 30,
   "outputs": [
    {
     "name": "stdout",
     "output_type": "stream",
     "text": [
      "Accuracy of model on test set is 0.8714\n"
     ]
    }
   ],
   "source": [
    "# Estimating accuracy of model on test set.\n",
    "# need to center X_test\n",
    "X_test_scaled = sc.transform(X_test)\n",
    "# transform 784 dimension data to 20 dimensions\n",
    "X_test_transformed = pca_model.transform(X_test_scaled)\n",
    "y_test_pred = log_model.predict(X_test_transformed)\n",
    "print(f\"Accuracy of model on test set is {accuracy_score(y_true=Y_test, y_pred=y_test_pred)}\")"
   ],
   "metadata": {
    "collapsed": false,
    "ExecuteTime": {
     "start_time": "2023-10-09T13:45:26.234663Z",
     "end_time": "2023-10-09T13:45:26.417500Z"
    }
   }
  },
  {
   "cell_type": "markdown",
   "source": [
    "# part (c) Train/test split to find best number of principal components"
   ],
   "metadata": {
    "collapsed": false
   }
  },
  {
   "cell_type": "code",
   "execution_count": 35,
   "id": "known-illinois",
   "metadata": {
    "ExecuteTime": {
     "start_time": "2023-10-09T14:06:08.615831Z",
     "end_time": "2023-10-09T14:06:08.626703Z"
    }
   },
   "outputs": [],
   "source": [
    "# Train-Validation split\n",
    "def train_test_split(X, Y):\n",
    "    rand = np.arange(60000)\n",
    "    np.random.shuffle(rand)\n",
    "    train_no = rand[:50000]\n",
    "\n",
    "    val_no = np.setdiff1d(rand,train_no)\n",
    "\n",
    "    X_train, X_val = X[train_no, :], X[val_no, :]\n",
    "    Y_train, Y_val = Y[train_no], Y[val_no]\n",
    "    return X_train, X_val, Y_train, Y_val"
   ]
  },
  {
   "cell_type": "code",
   "execution_count": 45,
   "outputs": [],
   "source": [
    "from sklearn.base import BaseEstimator\n",
    "\n",
    "class PCALogisticRegression(BaseEstimator):\n",
    "    def __init__(self, num_comps):\n",
    "        self.num_comps = num_comps\n",
    "        self.pca_model = PCA(num_comps)\n",
    "        self.log_model = LogisticRegression()\n",
    "    def fit(self, X, y):\n",
    "        X_compressed = self.pca_model.fit_transform(X)\n",
    "        self.log_model.fit(X_compressed, y)\n",
    "    def predict(self, X):\n",
    "        if X.shape[0] != self.num_comps:\n",
    "            X_compress = self.pca_model.transform(X)\n",
    "            return self.log_model.predict(X_compress)\n",
    "        return self.log_model.predict(X)\n"
   ],
   "metadata": {
    "collapsed": false,
    "ExecuteTime": {
     "start_time": "2023-10-09T14:25:34.791912Z",
     "end_time": "2023-10-09T14:25:34.800992Z"
    }
   }
  },
  {
   "cell_type": "code",
   "execution_count": 41,
   "id": "derived-turkey",
   "metadata": {
    "ExecuteTime": {
     "start_time": "2023-10-09T14:13:35.835752Z",
     "end_time": "2023-10-09T14:14:41.358155Z"
    }
   },
   "outputs": [
    {
     "name": "stderr",
     "output_type": "stream",
     "text": [
      "/Users/jay/opt/anaconda3/envs/ml_a1/lib/python3.10/site-packages/sklearn/linear_model/_logistic.py:460: ConvergenceWarning: lbfgs failed to converge (status=1):\n",
      "STOP: TOTAL NO. of ITERATIONS REACHED LIMIT.\n",
      "\n",
      "Increase the number of iterations (max_iter) or scale the data as shown in:\n",
      "    https://scikit-learn.org/stable/modules/preprocessing.html\n",
      "Please also refer to the documentation for alternative solver options:\n",
      "    https://scikit-learn.org/stable/modules/linear_model.html#logistic-regression\n",
      "  n_iter_i = _check_optimize_result(\n",
      "/Users/jay/opt/anaconda3/envs/ml_a1/lib/python3.10/site-packages/sklearn/linear_model/_logistic.py:460: ConvergenceWarning: lbfgs failed to converge (status=1):\n",
      "STOP: TOTAL NO. of ITERATIONS REACHED LIMIT.\n",
      "\n",
      "Increase the number of iterations (max_iter) or scale the data as shown in:\n",
      "    https://scikit-learn.org/stable/modules/preprocessing.html\n",
      "Please also refer to the documentation for alternative solver options:\n",
      "    https://scikit-learn.org/stable/modules/linear_model.html#logistic-regression\n",
      "  n_iter_i = _check_optimize_result(\n",
      "/Users/jay/opt/anaconda3/envs/ml_a1/lib/python3.10/site-packages/sklearn/linear_model/_logistic.py:460: ConvergenceWarning: lbfgs failed to converge (status=1):\n",
      "STOP: TOTAL NO. of ITERATIONS REACHED LIMIT.\n",
      "\n",
      "Increase the number of iterations (max_iter) or scale the data as shown in:\n",
      "    https://scikit-learn.org/stable/modules/preprocessing.html\n",
      "Please also refer to the documentation for alternative solver options:\n",
      "    https://scikit-learn.org/stable/modules/linear_model.html#logistic-regression\n",
      "  n_iter_i = _check_optimize_result(\n",
      "/Users/jay/opt/anaconda3/envs/ml_a1/lib/python3.10/site-packages/sklearn/linear_model/_logistic.py:460: ConvergenceWarning: lbfgs failed to converge (status=1):\n",
      "STOP: TOTAL NO. of ITERATIONS REACHED LIMIT.\n",
      "\n",
      "Increase the number of iterations (max_iter) or scale the data as shown in:\n",
      "    https://scikit-learn.org/stable/modules/preprocessing.html\n",
      "Please also refer to the documentation for alternative solver options:\n",
      "    https://scikit-learn.org/stable/modules/linear_model.html#logistic-regression\n",
      "  n_iter_i = _check_optimize_result(\n",
      "/Users/jay/opt/anaconda3/envs/ml_a1/lib/python3.10/site-packages/sklearn/linear_model/_logistic.py:460: ConvergenceWarning: lbfgs failed to converge (status=1):\n",
      "STOP: TOTAL NO. of ITERATIONS REACHED LIMIT.\n",
      "\n",
      "Increase the number of iterations (max_iter) or scale the data as shown in:\n",
      "    https://scikit-learn.org/stable/modules/preprocessing.html\n",
      "Please also refer to the documentation for alternative solver options:\n",
      "    https://scikit-learn.org/stable/modules/linear_model.html#logistic-regression\n",
      "  n_iter_i = _check_optimize_result(\n",
      "/Users/jay/opt/anaconda3/envs/ml_a1/lib/python3.10/site-packages/sklearn/linear_model/_logistic.py:460: ConvergenceWarning: lbfgs failed to converge (status=1):\n",
      "STOP: TOTAL NO. of ITERATIONS REACHED LIMIT.\n",
      "\n",
      "Increase the number of iterations (max_iter) or scale the data as shown in:\n",
      "    https://scikit-learn.org/stable/modules/preprocessing.html\n",
      "Please also refer to the documentation for alternative solver options:\n",
      "    https://scikit-learn.org/stable/modules/linear_model.html#logistic-regression\n",
      "  n_iter_i = _check_optimize_result(\n",
      "/Users/jay/opt/anaconda3/envs/ml_a1/lib/python3.10/site-packages/sklearn/linear_model/_logistic.py:460: ConvergenceWarning: lbfgs failed to converge (status=1):\n",
      "STOP: TOTAL NO. of ITERATIONS REACHED LIMIT.\n",
      "\n",
      "Increase the number of iterations (max_iter) or scale the data as shown in:\n",
      "    https://scikit-learn.org/stable/modules/preprocessing.html\n",
      "Please also refer to the documentation for alternative solver options:\n",
      "    https://scikit-learn.org/stable/modules/linear_model.html#logistic-regression\n",
      "  n_iter_i = _check_optimize_result(\n",
      "/Users/jay/opt/anaconda3/envs/ml_a1/lib/python3.10/site-packages/sklearn/linear_model/_logistic.py:460: ConvergenceWarning: lbfgs failed to converge (status=1):\n",
      "STOP: TOTAL NO. of ITERATIONS REACHED LIMIT.\n",
      "\n",
      "Increase the number of iterations (max_iter) or scale the data as shown in:\n",
      "    https://scikit-learn.org/stable/modules/preprocessing.html\n",
      "Please also refer to the documentation for alternative solver options:\n",
      "    https://scikit-learn.org/stable/modules/linear_model.html#logistic-regression\n",
      "  n_iter_i = _check_optimize_result(\n",
      "/Users/jay/opt/anaconda3/envs/ml_a1/lib/python3.10/site-packages/sklearn/linear_model/_logistic.py:460: ConvergenceWarning: lbfgs failed to converge (status=1):\n",
      "STOP: TOTAL NO. of ITERATIONS REACHED LIMIT.\n",
      "\n",
      "Increase the number of iterations (max_iter) or scale the data as shown in:\n",
      "    https://scikit-learn.org/stable/modules/preprocessing.html\n",
      "Please also refer to the documentation for alternative solver options:\n",
      "    https://scikit-learn.org/stable/modules/linear_model.html#logistic-regression\n",
      "  n_iter_i = _check_optimize_result(\n",
      "/Users/jay/opt/anaconda3/envs/ml_a1/lib/python3.10/site-packages/sklearn/linear_model/_logistic.py:460: ConvergenceWarning: lbfgs failed to converge (status=1):\n",
      "STOP: TOTAL NO. of ITERATIONS REACHED LIMIT.\n",
      "\n",
      "Increase the number of iterations (max_iter) or scale the data as shown in:\n",
      "    https://scikit-learn.org/stable/modules/preprocessing.html\n",
      "Please also refer to the documentation for alternative solver options:\n",
      "    https://scikit-learn.org/stable/modules/linear_model.html#logistic-regression\n",
      "  n_iter_i = _check_optimize_result(\n"
     ]
    }
   ],
   "source": [
    "# select number of components\n",
    "X_scaled = sc.fit_transform(X)\n",
    "num_components = np.arange(20, 201, 20)\n",
    "best_val_accuracy = []\n",
    "# Write your implementation below\n",
    "for i in num_components:\n",
    "    X_train, X_val, Y_train, Y_val = train_test_split(X_scaled, Y)\n",
    "    custom_model = PCALogisticRegression(i)\n",
    "    custom_model.fit(X_train, Y_train)\n",
    "    y_pred = custom_model.predict(X_val)\n",
    "    accuracy = accuracy_score(Y_val, y_pred)\n",
    "    best_val_accuracy.append(accuracy)\n",
    "    # if accuracy > best_val_accuracy:\n",
    "    #     best_comps = i\n",
    "    #     best_val_accuracy = max(best_val_accuracy, accuracy)"
   ]
  },
  {
   "cell_type": "code",
   "execution_count": 44,
   "outputs": [
    {
     "data": {
      "text/plain": "<Axes: xlabel='components'>"
     },
     "execution_count": 44,
     "metadata": {},
     "output_type": "execute_result"
    },
    {
     "data": {
      "text/plain": "<Figure size 640x480 with 1 Axes>",
      "image/png": "[encoded data removed]"
     },
     "metadata": {},
     "output_type": "display_data"
    }
   ],
   "source": [
    "import pandas as pd\n",
    "val_accuracy_comp = pd.DataFrame()\n",
    "val_accuracy_comp[\"components\"] = num_components\n",
    "val_accuracy_comp[\"val_accuracy\"] = best_val_accuracy\n",
    "val_accuracy_comp.plot(kind=\"line\", x=\"components\", y=\"val_accuracy\")"
   ],
   "metadata": {
    "collapsed": false
   }
  },
  {
   "cell_type": "code",
   "execution_count": 48,
   "outputs": [
    {
     "name": "stderr",
     "output_type": "stream",
     "text": [
      "/Users/jay/opt/anaconda3/envs/ml_a1/lib/python3.10/site-packages/sklearn/linear_model/_logistic.py:460: ConvergenceWarning: lbfgs failed to converge (status=1):\n",
      "STOP: TOTAL NO. of ITERATIONS REACHED LIMIT.\n",
      "\n",
      "Increase the number of iterations (max_iter) or scale the data as shown in:\n",
      "    https://scikit-learn.org/stable/modules/preprocessing.html\n",
      "Please also refer to the documentation for alternative solver options:\n",
      "    https://scikit-learn.org/stable/modules/linear_model.html#logistic-regression\n",
      "  n_iter_i = _check_optimize_result(\n"
     ]
    },
    {
     "name": "stdout",
     "output_type": "stream",
     "text": [
      "Training accuracy of the model is 0.93\n",
      "Validation accuracy of the model is 0.92\n",
      "Test accuracy of the model is 0.93\n"
     ]
    }
   ],
   "source": [
    "X_test_scaled = sc.transform(X_test)\n",
    "X_train, X_val, Y_train, Y_val = train_test_split(X_scaled, Y)\n",
    "custom_model = PCALogisticRegression(200)\n",
    "custom_model.fit(X_train, Y_train)\n",
    "y_train_pred = custom_model.predict(X_train)\n",
    "y_val_pred = custom_model.predict(X_val)\n",
    "y_test_pred = custom_model.predict(X_test_scaled)\n",
    "train_accuracy = accuracy_score(Y_train, y_train_pred)\n",
    "val_accuracy = accuracy_score(Y_val, y_val_pred)\n",
    "test_accuracy = accuracy_score(Y_test, y_test_pred)\n",
    "print(f\"Training accuracy of the model is {round(train_accuracy, 2)}\")\n",
    "print(f\"Validation accuracy of the model is {round(val_accuracy, 2)}\")\n",
    "print(f\"Test accuracy of the model is {round(test_accuracy, 2)}\")"
   ],
   "metadata": {
    "collapsed": false
   }
  },
  {
   "cell_type": "markdown",
   "source": [
    "### We can observe that the model trained on 200 dimensions out performs the model having 20 features because each principal component captures a certain amount of variance in the original data. By including more components, you retain a larger portion of the original data's variance. This means that a greater amount of information from the original features is preserved in the reduced-dimensional space, which can be beneficial for modeling."
   ],
   "metadata": {
    "collapsed": false
   }
  },
  {
   "cell_type": "code",
   "execution_count": null,
   "outputs": [],
   "source": [],
   "metadata": {
    "collapsed": false
   }
  }
 ],
 "metadata": {
  "kernelspec": {
   "display_name": "Python 3 (ipykernel)",
   "language": "python",
   "name": "python3"
  },
  "language_info": {
   "codemirror_mode": {
    "name": "ipython",
    "version": 3
   },
   "file_extension": ".py",
   "mimetype": "text/x-python",
   "name": "python",
   "nbconvert_exporter": "python",
   "pygments_lexer": "ipython3",
   "version": "3.10.4"
  }
 },
 "nbformat": 4,
 "nbformat_minor": 5
}
