{
 "cells": [
  {
   "cell_type": "code",
   "execution_count": 1,
   "metadata": {
    "collapsed": true,
    "ExecuteTime": {
     "start_time": "2023-10-10T14:34:32.695400Z",
     "end_time": "2023-10-10T14:34:33.885268Z"
    }
   },
   "outputs": [],
   "source": [
    "import numpy as np\n",
    "import pandas as pd\n",
    "from ISLP import load_data"
   ]
  },
  {
   "cell_type": "code",
   "execution_count": 2,
   "outputs": [
    {
     "name": "stdout",
     "output_type": "stream",
     "text": [
      "<class 'pandas.core.frame.DataFrame'>\n",
      "RangeIndex: 777 entries, 0 to 776\n",
      "Data columns (total 18 columns):\n",
      " #   Column       Non-Null Count  Dtype  \n",
      "---  ------       --------------  -----  \n",
      " 0   Private      777 non-null    object \n",
      " 1   Apps         777 non-null    int64  \n",
      " 2   Accept       777 non-null    int64  \n",
      " 3   Enroll       777 non-null    int64  \n",
      " 4   Top10perc    777 non-null    int64  \n",
      " 5   Top25perc    777 non-null    int64  \n",
      " 6   F.Undergrad  777 non-null    int64  \n",
      " 7   P.Undergrad  777 non-null    int64  \n",
      " 8   Outstate     777 non-null    int64  \n",
      " 9   Room.Board   777 non-null    int64  \n",
      " 10  Books        777 non-null    int64  \n",
      " 11  Personal     777 non-null    int64  \n",
      " 12  PhD          777 non-null    int64  \n",
      " 13  Terminal     777 non-null    int64  \n",
      " 14  S.F.Ratio    777 non-null    float64\n",
      " 15  perc.alumni  777 non-null    int64  \n",
      " 16  Expend       777 non-null    int64  \n",
      " 17  Grad.Rate    777 non-null    int64  \n",
      "dtypes: float64(1), int64(16), object(1)\n",
      "memory usage: 109.4+ KB\n"
     ]
    }
   ],
   "source": [
    "df = load_data(\"College\")\n",
    "df.info()"
   ],
   "metadata": {
    "collapsed": false,
    "ExecuteTime": {
     "start_time": "2023-10-10T14:34:33.888259Z",
     "end_time": "2023-10-10T14:34:33.909016Z"
    }
   }
  },
  {
   "cell_type": "code",
   "execution_count": 3,
   "outputs": [],
   "source": [
    "df[\"Private\"] = df.Private.apply(lambda x: 1 if x==\"Yes\" else 0)\n",
    "df[\"Accept.Rate\"] = df[\"Accept\"] / df[\"Apps\"]\n",
    "data = df.drop(columns=[\"Accept\", \"Apps\"])"
   ],
   "metadata": {
    "collapsed": false,
    "ExecuteTime": {
     "start_time": "2023-10-10T14:34:33.907663Z",
     "end_time": "2023-10-10T14:34:33.941964Z"
    }
   }
  },
  {
   "cell_type": "code",
   "execution_count": 4,
   "outputs": [
    {
     "data": {
      "text/plain": "     Private  Enroll  Top10perc  Top25perc  F.Undergrad  P.Undergrad  \\\n0          1     721         23         52         2885          537   \n1          1     512         16         29         2683         1227   \n2          1     336         22         50         1036           99   \n3          1     137         60         89          510           63   \n4          1      55         16         44          249          869   \n..       ...     ...        ...        ...          ...          ...   \n772        0     543          4         26         3089         2029   \n773        1     695         24         47         2849         1107   \n774        1     695         34         61         2793          166   \n775        1    1317         95         99         5217           83   \n776        1     691         28         63         2988         1726   \n\n     Outstate  Room.Board  Books  Personal  PhD  Terminal  S.F.Ratio  \\\n0        7440        3300    450      2200   70        78       18.1   \n1       12280        6450    750      1500   29        30       12.2   \n2       11250        3750    400      1165   53        66       12.9   \n3       12960        5450    450       875   92        97        7.7   \n4        7560        4120    800      1500   76        72       11.9   \n..        ...         ...    ...       ...  ...       ...        ...   \n772      6797        3900    500      1200   60        60       21.0   \n773     11520        4960    600      1250   73        75       13.3   \n774      6900        4200    617       781   67        75       14.4   \n775     19840        6510    630      2115   96        96        5.8   \n776      4990        3560    500      1250   75        75       18.1   \n\n     perc.alumni  Expend  Grad.Rate  Accept.Rate  \n0             12    7041         60     0.742169  \n1             16   10527         56     0.880146  \n2             30    8735         54     0.768207  \n3             37   19016         59     0.836930  \n4              2   10922         15     0.756477  \n..           ...     ...        ...          ...  \n772           14    4469         40     0.689577  \n773           31    9189         83     0.921388  \n774           20    8323         49     0.913209  \n775           49   40386         99     0.229145  \n776           28    4509         99     0.620609  \n\n[777 rows x 17 columns]",
      "text/html": "<div>\n<style scoped>\n    .dataframe tbody tr th:only-of-type {\n        vertical-align: middle;\n    }\n\n    .dataframe tbody tr th {\n        vertical-align: top;\n    }\n\n    .dataframe thead th {\n        text-align: right;\n    }\n</style>\n<table border=\"1\" class=\"dataframe\">\n  <thead>\n    <tr style=\"text-align: right;\">\n      <th></th>\n      <th>Private</th>\n      <th>Enroll</th>\n      <th>Top10perc</th>\n      <th>Top25perc</th>\n      <th>F.Undergrad</th>\n      <th>P.Undergrad</th>\n      <th>Outstate</th>\n      <th>Room.Board</th>\n      <th>Books</th>\n      <th>Personal</th>\n      <th>PhD</th>\n      <th>Terminal</th>\n      <th>S.F.Ratio</th>\n      <th>perc.alumni</th>\n      <th>Expend</th>\n      <th>Grad.Rate</th>\n      <th>Accept.Rate</th>\n    </tr>\n  </thead>\n  <tbody>\n    <tr>\n      <th>0</th>\n      <td>1</td>\n      <td>721</td>\n      <td>23</td>\n      <td>52</td>\n      <td>2885</td>\n      <td>537</td>\n      <td>7440</td>\n      <td>3300</td>\n      <td>450</td>\n      <td>2200</td>\n      <td>70</td>\n      <td>78</td>\n      <td>18.1</td>\n      <td>12</td>\n      <td>7041</td>\n      <td>60</td>\n      <td>0.742169</td>\n    </tr>\n    <tr>\n      <th>1</th>\n      <td>1</td>\n      <td>512</td>\n      <td>16</td>\n      <td>29</td>\n      <td>2683</td>\n      <td>1227</td>\n      <td>12280</td>\n      <td>6450</td>\n      <td>750</td>\n      <td>1500</td>\n      <td>29</td>\n      <td>30</td>\n      <td>12.2</td>\n      <td>16</td>\n      <td>10527</td>\n      <td>56</td>\n      <td>0.880146</td>\n    </tr>\n    <tr>\n      <th>2</th>\n      <td>1</td>\n      <td>336</td>\n      <td>22</td>\n      <td>50</td>\n      <td>1036</td>\n      <td>99</td>\n      <td>11250</td>\n      <td>3750</td>\n      <td>400</td>\n      <td>1165</td>\n      <td>53</td>\n      <td>66</td>\n      <td>12.9</td>\n      <td>30</td>\n      <td>8735</td>\n      <td>54</td>\n      <td>0.768207</td>\n    </tr>\n    <tr>\n      <th>3</th>\n      <td>1</td>\n      <td>137</td>\n      <td>60</td>\n      <td>89</td>\n      <td>510</td>\n      <td>63</td>\n      <td>12960</td>\n      <td>5450</td>\n      <td>450</td>\n      <td>875</td>\n      <td>92</td>\n      <td>97</td>\n      <td>7.7</td>\n      <td>37</td>\n      <td>19016</td>\n      <td>59</td>\n      <td>0.836930</td>\n    </tr>\n    <tr>\n      <th>4</th>\n      <td>1</td>\n      <td>55</td>\n      <td>16</td>\n      <td>44</td>\n      <td>249</td>\n      <td>869</td>\n      <td>7560</td>\n      <td>4120</td>\n      <td>800</td>\n      <td>1500</td>\n      <td>76</td>\n      <td>72</td>\n      <td>11.9</td>\n      <td>2</td>\n      <td>10922</td>\n      <td>15</td>\n      <td>0.756477</td>\n    </tr>\n    <tr>\n      <th>...</th>\n      <td>...</td>\n      <td>...</td>\n      <td>...</td>\n      <td>...</td>\n      <td>...</td>\n      <td>...</td>\n      <td>...</td>\n      <td>...</td>\n      <td>...</td>\n      <td>...</td>\n      <td>...</td>\n      <td>...</td>\n      <td>...</td>\n      <td>...</td>\n      <td>...</td>\n      <td>...</td>\n      <td>...</td>\n    </tr>\n    <tr>\n      <th>772</th>\n      <td>0</td>\n      <td>543</td>\n      <td>4</td>\n      <td>26</td>\n      <td>3089</td>\n      <td>2029</td>\n      <td>6797</td>\n      <td>3900</td>\n      <td>500</td>\n      <td>1200</td>\n      <td>60</td>\n      <td>60</td>\n      <td>21.0</td>\n      <td>14</td>\n      <td>4469</td>\n      <td>40</td>\n      <td>0.689577</td>\n    </tr>\n    <tr>\n      <th>773</th>\n      <td>1</td>\n      <td>695</td>\n      <td>24</td>\n      <td>47</td>\n      <td>2849</td>\n      <td>1107</td>\n      <td>11520</td>\n      <td>4960</td>\n      <td>600</td>\n      <td>1250</td>\n      <td>73</td>\n      <td>75</td>\n      <td>13.3</td>\n      <td>31</td>\n      <td>9189</td>\n      <td>83</td>\n      <td>0.921388</td>\n    </tr>\n    <tr>\n      <th>774</th>\n      <td>1</td>\n      <td>695</td>\n      <td>34</td>\n      <td>61</td>\n      <td>2793</td>\n      <td>166</td>\n      <td>6900</td>\n      <td>4200</td>\n      <td>617</td>\n      <td>781</td>\n      <td>67</td>\n      <td>75</td>\n      <td>14.4</td>\n      <td>20</td>\n      <td>8323</td>\n      <td>49</td>\n      <td>0.913209</td>\n    </tr>\n    <tr>\n      <th>775</th>\n      <td>1</td>\n      <td>1317</td>\n      <td>95</td>\n      <td>99</td>\n      <td>5217</td>\n      <td>83</td>\n      <td>19840</td>\n      <td>6510</td>\n      <td>630</td>\n      <td>2115</td>\n      <td>96</td>\n      <td>96</td>\n      <td>5.8</td>\n      <td>49</td>\n      <td>40386</td>\n      <td>99</td>\n      <td>0.229145</td>\n    </tr>\n    <tr>\n      <th>776</th>\n      <td>1</td>\n      <td>691</td>\n      <td>28</td>\n      <td>63</td>\n      <td>2988</td>\n      <td>1726</td>\n      <td>4990</td>\n      <td>3560</td>\n      <td>500</td>\n      <td>1250</td>\n      <td>75</td>\n      <td>75</td>\n      <td>18.1</td>\n      <td>28</td>\n      <td>4509</td>\n      <td>99</td>\n      <td>0.620609</td>\n    </tr>\n  </tbody>\n</table>\n<p>777 rows × 17 columns</p>\n</div>"
     },
     "execution_count": 4,
     "metadata": {},
     "output_type": "execute_result"
    }
   ],
   "source": [
    "data"
   ],
   "metadata": {
    "collapsed": false,
    "ExecuteTime": {
     "start_time": "2023-10-10T14:34:33.923085Z",
     "end_time": "2023-10-10T14:34:33.954680Z"
    }
   }
  },
  {
   "cell_type": "markdown",
   "source": [
    "# part(a)  - Train/Test Split"
   ],
   "metadata": {
    "collapsed": false
   }
  },
  {
   "cell_type": "code",
   "execution_count": 5,
   "outputs": [],
   "source": [
    "x_cols = list(data.columns)\n",
    "x_cols.remove(\"Accept.Rate\")"
   ],
   "metadata": {
    "collapsed": false,
    "ExecuteTime": {
     "start_time": "2023-10-10T14:34:33.946555Z",
     "end_time": "2023-10-10T14:34:33.954861Z"
    }
   }
  },
  {
   "cell_type": "code",
   "execution_count": 6,
   "outputs": [],
   "source": [
    "from sklearn.model_selection import train_test_split\n",
    "X_train, X_test, Y_train, Y_test = train_test_split(data.loc[:, x_cols].to_numpy(), data[\"Accept.Rate\"].to_numpy(), test_size=0.2, random_state=42)"
   ],
   "metadata": {
    "collapsed": false,
    "ExecuteTime": {
     "start_time": "2023-10-10T14:34:33.951943Z",
     "end_time": "2023-10-10T14:34:33.997581Z"
    }
   }
  },
  {
   "cell_type": "code",
   "execution_count": 7,
   "outputs": [
    {
     "data": {
      "text/plain": "((621, 16), (156, 16), (621,), (156,))"
     },
     "execution_count": 7,
     "metadata": {},
     "output_type": "execute_result"
    }
   ],
   "source": [
    "X_train.shape, X_test.shape, Y_train.shape, Y_test.shape"
   ],
   "metadata": {
    "collapsed": false,
    "ExecuteTime": {
     "start_time": "2023-10-10T14:34:33.973630Z",
     "end_time": "2023-10-10T14:34:34.054757Z"
    }
   }
  },
  {
   "cell_type": "markdown",
   "source": [
    "# Part(b) - Fit OLS"
   ],
   "metadata": {
    "collapsed": false
   }
  },
  {
   "cell_type": "code",
   "execution_count": 8,
   "outputs": [],
   "source": [
    "from sklearn.linear_model import LinearRegression\n",
    "linear_model = LinearRegression()\n",
    "linear_model.fit(X_train, Y_train)\n",
    "y_pred = linear_model.predict(X_test)"
   ],
   "metadata": {
    "collapsed": false,
    "ExecuteTime": {
     "start_time": "2023-10-10T14:34:33.980759Z",
     "end_time": "2023-10-10T14:34:34.250147Z"
    }
   }
  },
  {
   "cell_type": "code",
   "execution_count": 9,
   "outputs": [
    {
     "name": "stdout",
     "output_type": "stream",
     "text": [
      "RMSE-Test error of this model is 0.13789345440675638\n"
     ]
    }
   ],
   "source": [
    "from sklearn.metrics import mean_squared_error\n",
    "import numpy as np\n",
    "print(f\"RMSE-Test error of this model is {np.sqrt(mean_squared_error(y_true=Y_test, y_pred=y_pred))}\")"
   ],
   "metadata": {
    "collapsed": false,
    "ExecuteTime": {
     "start_time": "2023-10-10T14:34:34.045290Z",
     "end_time": "2023-10-10T14:34:34.270281Z"
    }
   }
  },
  {
   "cell_type": "markdown",
   "source": [
    "# Part (c) - Fitting ridge regression"
   ],
   "metadata": {
    "collapsed": false
   }
  },
  {
   "cell_type": "code",
   "execution_count": 10,
   "outputs": [],
   "source": [
    "from sklearn.linear_model import Ridge\n",
    "from sklearn.model_selection import cross_val_score\n",
    "alpha = np.arange(0, 2, 0.1)\n",
    "val_errors = []\n",
    "for a in alpha:\n",
    "    ridge_model = Ridge(alpha=a)\n",
    "    val_errors.append(-cross_val_score(ridge_model, X_train, Y_train, cv=3, scoring=\"neg_mean_squared_error\").mean())"
   ],
   "metadata": {
    "collapsed": false,
    "ExecuteTime": {
     "start_time": "2023-10-10T14:34:34.052487Z",
     "end_time": "2023-10-10T14:34:34.271762Z"
    }
   }
  },
  {
   "cell_type": "code",
   "execution_count": 22,
   "outputs": [
    {
     "name": "stdout",
     "output_type": "stream",
     "text": [
      "RMSE-Test error of this model is 0.13781117090715495\n"
     ]
    }
   ],
   "source": [
    "# Every alpha is having a similar validation error, therefore can choose any number for alpha\n",
    "ridge_model = Ridge(alpha=1)\n",
    "ridge_model.fit(X_train, Y_train)\n",
    "y_pred = ridge_model.predict(X_test)\n",
    "print(f\"RMSE-Test error of this model is {np.sqrt(mean_squared_error(y_true=Y_test, y_pred=y_pred))}\")"
   ],
   "metadata": {
    "collapsed": false,
    "ExecuteTime": {
     "start_time": "2023-10-10T14:35:44.753507Z",
     "end_time": "2023-10-10T14:35:44.759234Z"
    }
   }
  },
  {
   "cell_type": "markdown",
   "source": [
    "# Part (d) - Fitting Lasso Regression"
   ],
   "metadata": {
    "collapsed": false
   }
  },
  {
   "cell_type": "code",
   "execution_count": 12,
   "outputs": [
    {
     "name": "stderr",
     "output_type": "stream",
     "text": [
      "/Users/jay/opt/anaconda3/envs/ml_a1/lib/python3.10/site-packages/sklearn/base.py:1152: UserWarning: With alpha=0, this algorithm does not converge well. You are advised to use the LinearRegression estimator\n",
      "  return fit_method(estimator, *args, **kwargs)\n",
      "/Users/jay/opt/anaconda3/envs/ml_a1/lib/python3.10/site-packages/sklearn/linear_model/_coordinate_descent.py:628: UserWarning: Coordinate descent with no regularization may lead to unexpected results and is discouraged.\n",
      "  model = cd_fast.enet_coordinate_descent(\n",
      "/Users/jay/opt/anaconda3/envs/ml_a1/lib/python3.10/site-packages/sklearn/linear_model/_coordinate_descent.py:628: ConvergenceWarning: Objective did not converge. You might want to increase the number of iterations, check the scale of the features or consider increasing regularisation. Duality gap: 2.509e+00, tolerance: 8.240e-04 Linear regression models with null weight for the l1 regularization term are more efficiently fitted using one of the solvers implemented in sklearn.linear_model.Ridge/RidgeCV instead.\n",
      "  model = cd_fast.enet_coordinate_descent(\n",
      "/Users/jay/opt/anaconda3/envs/ml_a1/lib/python3.10/site-packages/sklearn/base.py:1152: UserWarning: With alpha=0, this algorithm does not converge well. You are advised to use the LinearRegression estimator\n",
      "  return fit_method(estimator, *args, **kwargs)\n",
      "/Users/jay/opt/anaconda3/envs/ml_a1/lib/python3.10/site-packages/sklearn/linear_model/_coordinate_descent.py:628: UserWarning: Coordinate descent with no regularization may lead to unexpected results and is discouraged.\n",
      "  model = cd_fast.enet_coordinate_descent(\n",
      "/Users/jay/opt/anaconda3/envs/ml_a1/lib/python3.10/site-packages/sklearn/linear_model/_coordinate_descent.py:628: ConvergenceWarning: Objective did not converge. You might want to increase the number of iterations, check the scale of the features or consider increasing regularisation. Duality gap: 2.565e+00, tolerance: 8.414e-04 Linear regression models with null weight for the l1 regularization term are more efficiently fitted using one of the solvers implemented in sklearn.linear_model.Ridge/RidgeCV instead.\n",
      "  model = cd_fast.enet_coordinate_descent(\n",
      "/Users/jay/opt/anaconda3/envs/ml_a1/lib/python3.10/site-packages/sklearn/base.py:1152: UserWarning: With alpha=0, this algorithm does not converge well. You are advised to use the LinearRegression estimator\n",
      "  return fit_method(estimator, *args, **kwargs)\n",
      "/Users/jay/opt/anaconda3/envs/ml_a1/lib/python3.10/site-packages/sklearn/linear_model/_coordinate_descent.py:628: UserWarning: Coordinate descent with no regularization may lead to unexpected results and is discouraged.\n",
      "  model = cd_fast.enet_coordinate_descent(\n",
      "/Users/jay/opt/anaconda3/envs/ml_a1/lib/python3.10/site-packages/sklearn/linear_model/_coordinate_descent.py:628: ConvergenceWarning: Objective did not converge. You might want to increase the number of iterations, check the scale of the features or consider increasing regularisation. Duality gap: 2.711e+00, tolerance: 8.911e-04 Linear regression models with null weight for the l1 regularization term are more efficiently fitted using one of the solvers implemented in sklearn.linear_model.Ridge/RidgeCV instead.\n",
      "  model = cd_fast.enet_coordinate_descent(\n"
     ]
    }
   ],
   "source": [
    "from sklearn.linear_model import Lasso\n",
    "from sklearn.model_selection import cross_val_score\n",
    "alpha = np.arange(0, 2, 0.1)\n",
    "val_errors = []\n",
    "for a in alpha:\n",
    "    lasso_model = Lasso(alpha=a)\n",
    "    val_errors.append(-cross_val_score(lasso_model, X_train, Y_train, cv=3, scoring=\"neg_mean_squared_error\").mean())"
   ],
   "metadata": {
    "collapsed": false,
    "ExecuteTime": {
     "start_time": "2023-10-10T14:34:34.216846Z",
     "end_time": "2023-10-10T14:34:34.399221Z"
    }
   }
  },
  {
   "cell_type": "code",
   "execution_count": 23,
   "outputs": [
    {
     "name": "stdout",
     "output_type": "stream",
     "text": [
      "RMSE-Test error of this model is 0.1397114925328524\n",
      "number of non-zero coefficients are 7\n"
     ]
    }
   ],
   "source": [
    "lasso_model = Lasso(alpha=1)\n",
    "lasso_model.fit(X_train, Y_train)\n",
    "y_pred = lasso_model.predict(X_test)\n",
    "print(f\"RMSE-Test error of this model is {np.sqrt(mean_squared_error(y_true=Y_test, y_pred=y_pred))}\")\n",
    "print(f\"number of non-zero coefficients are {len(np.where(lasso_model.coef_ != 0)[0])}\")"
   ],
   "metadata": {
    "collapsed": false,
    "ExecuteTime": {
     "start_time": "2023-10-10T14:35:59.106160Z",
     "end_time": "2023-10-10T14:35:59.118541Z"
    }
   }
  },
  {
   "cell_type": "markdown",
   "source": [
    "## Test error of Lasso and Ridge regression are very similar, indicating that the zero coefficient in lasso regression will have a very small non-zero value in ridge regression coefficient estimation."
   ],
   "metadata": {
    "collapsed": false
   }
  },
  {
   "cell_type": "markdown",
   "source": [
    "# Part (e) - Partial Least Squares Regression"
   ],
   "metadata": {
    "collapsed": false
   }
  },
  {
   "cell_type": "code",
   "execution_count": 14,
   "outputs": [],
   "source": [
    "from sklearn.cross_decomposition import PLSRegression\n",
    "num_components = np.arange(1, 17)\n",
    "val_errors = []\n",
    "for n in num_components:\n",
    "    pls_model = PLSRegression(n_components=n)\n",
    "    val_errors.append(cross_val_score(pls_model, X_train, Y_train, cv=3).mean())"
   ],
   "metadata": {
    "collapsed": false,
    "ExecuteTime": {
     "start_time": "2023-10-10T14:34:34.418303Z",
     "end_time": "2023-10-10T14:34:34.626733Z"
    }
   }
  },
  {
   "cell_type": "code",
   "execution_count": 24,
   "outputs": [
    {
     "name": "stdout",
     "output_type": "stream",
     "text": [
      "RMSE-Test error of this model is 0.13785608724455584\n",
      "number of components - 5\n"
     ]
    }
   ],
   "source": [
    "pls_model = PLSRegression(n_components=5)\n",
    "pls_model.fit(X_train, Y_train)\n",
    "y_pred = pls_model.predict(X_test)\n",
    "print(f\"RMSE-Test error of this model is {np.sqrt(mean_squared_error(y_true=Y_test, y_pred=y_pred))}\")\n",
    "print(f\"number of components - {5}\")"
   ],
   "metadata": {
    "collapsed": false,
    "ExecuteTime": {
     "start_time": "2023-10-10T14:36:09.098483Z",
     "end_time": "2023-10-10T14:36:09.115651Z"
    }
   }
  },
  {
   "cell_type": "markdown",
   "source": [
    "# part (f) Forward Stepwise Selection"
   ],
   "metadata": {
    "collapsed": false
   }
  },
  {
   "cell_type": "code",
   "execution_count": 25,
   "outputs": [],
   "source": [
    "global_best_subset = []\n",
    "columns = np.arange(0, 16)\n",
    "val_error = float('inf')\n",
    "counter = 0\n",
    "model = LinearRegression()\n",
    "while counter <= len(X_train[0]):\n",
    "    rem = list(set(columns) - set(global_best_subset))\n",
    "    best_set = []\n",
    "    for fe in rem:\n",
    "        m = []\n",
    "        m.extend(global_best_subset)\n",
    "        m.append(fe)\n",
    "        ve = cross_val_score(model, X_train[:, m], Y_train, cv=3).mean()\n",
    "        if ve < val_error:\n",
    "            best_set = m\n",
    "            val_error = ve\n",
    "    counter += 1\n",
    "    if best_set:\n",
    "        global_best_subset = best_set"
   ],
   "metadata": {
    "collapsed": false,
    "ExecuteTime": {
     "start_time": "2023-10-10T14:36:15.948176Z",
     "end_time": "2023-10-10T14:36:17.299266Z"
    }
   }
  },
  {
   "cell_type": "code",
   "execution_count": 27,
   "outputs": [
    {
     "name": "stdout",
     "output_type": "stream",
     "text": [
      "3 [5, 9, 12]\n"
     ]
    }
   ],
   "source": [
    "print(len(global_best_subset), global_best_subset)"
   ],
   "metadata": {
    "collapsed": false,
    "ExecuteTime": {
     "start_time": "2023-10-10T14:36:50.360286Z",
     "end_time": "2023-10-10T14:36:50.369780Z"
    }
   }
  },
  {
   "cell_type": "code",
   "execution_count": 33,
   "outputs": [],
   "source": [
    "import pandas as pd\n",
    "new_df = pd.concat([df[df.columns[global_best_subset]], df[\"Accept.Rate\"]], axis=1)"
   ],
   "metadata": {
    "collapsed": false,
    "ExecuteTime": {
     "start_time": "2023-10-10T14:38:36.407095Z",
     "end_time": "2023-10-10T14:38:36.419431Z"
    }
   }
  },
  {
   "cell_type": "code",
   "execution_count": 35,
   "outputs": [
    {
     "data": {
      "text/plain": "             Top25perc  Room.Board       PhD  Accept.Rate\nTop25perc     1.000000    0.331490  0.545862    -0.434672\nRoom.Board    0.331490    1.000000  0.329202    -0.310302\nPhD           0.545862    0.329202  1.000000    -0.318334\nAccept.Rate  -0.434672   -0.310302 -0.318334     1.000000",
      "text/html": "<div>\n<style scoped>\n    .dataframe tbody tr th:only-of-type {\n        vertical-align: middle;\n    }\n\n    .dataframe tbody tr th {\n        vertical-align: top;\n    }\n\n    .dataframe thead th {\n        text-align: right;\n    }\n</style>\n<table border=\"1\" class=\"dataframe\">\n  <thead>\n    <tr style=\"text-align: right;\">\n      <th></th>\n      <th>Top25perc</th>\n      <th>Room.Board</th>\n      <th>PhD</th>\n      <th>Accept.Rate</th>\n    </tr>\n  </thead>\n  <tbody>\n    <tr>\n      <th>Top25perc</th>\n      <td>1.000000</td>\n      <td>0.331490</td>\n      <td>0.545862</td>\n      <td>-0.434672</td>\n    </tr>\n    <tr>\n      <th>Room.Board</th>\n      <td>0.331490</td>\n      <td>1.000000</td>\n      <td>0.329202</td>\n      <td>-0.310302</td>\n    </tr>\n    <tr>\n      <th>PhD</th>\n      <td>0.545862</td>\n      <td>0.329202</td>\n      <td>1.000000</td>\n      <td>-0.318334</td>\n    </tr>\n    <tr>\n      <th>Accept.Rate</th>\n      <td>-0.434672</td>\n      <td>-0.310302</td>\n      <td>-0.318334</td>\n      <td>1.000000</td>\n    </tr>\n  </tbody>\n</table>\n</div>"
     },
     "execution_count": 35,
     "metadata": {},
     "output_type": "execute_result"
    }
   ],
   "source": [
    "new_df.corr()"
   ],
   "metadata": {
    "collapsed": false,
    "ExecuteTime": {
     "start_time": "2023-10-10T14:38:50.782912Z",
     "end_time": "2023-10-10T14:38:50.789338Z"
    }
   }
  },
  {
   "cell_type": "markdown",
   "source": [
    "# Number of features obtained is 3 and this is less than the non-zero coefficients of obtained using Lasso Regression. These features have the correlation with Accept.Rate than any other. Most of the estimation can be done using 3 of these features."
   ],
   "metadata": {
    "collapsed": false
   }
  },
  {
   "cell_type": "code",
   "execution_count": null,
   "outputs": [],
   "source": [],
   "metadata": {
    "collapsed": false
   }
  }
 ],
 "metadata": {
  "kernelspec": {
   "display_name": "Python 3",
   "language": "python",
   "name": "python3"
  },
  "language_info": {
   "codemirror_mode": {
    "name": "ipython",
    "version": 2
   },
   "file_extension": ".py",
   "mimetype": "text/x-python",
   "name": "python",
   "nbconvert_exporter": "python",
   "pygments_lexer": "ipython2",
   "version": "2.7.6"
  }
 },
 "nbformat": 4,
 "nbformat_minor": 0
}
